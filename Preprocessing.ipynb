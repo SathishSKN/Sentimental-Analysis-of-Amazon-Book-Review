{
 "cells": [
  {
   "cell_type": "markdown",
   "id": "441b9eea-9d82-492b-9e38-34ab0840ad59",
   "metadata": {},
   "source": [
    "## Loading Library"
   ]
  },
  {
   "cell_type": "code",
   "execution_count": 1,
   "id": "3b957164-f0c8-491c-ae72-af832bd1c6fa",
   "metadata": {
    "scrolled": true
   },
   "outputs": [],
   "source": [
    "import pandas as pd\n",
    "import re\n",
    "import numpy as np\n",
    "import matplotlib.pyplot as plt\n",
    "import seaborn as sns\n",
    "import warnings\n",
    "from pandas.errors import SettingWithCopyWarning\n",
    "\n",
    "warnings.simplefilter(action=\"ignore\", category=SettingWithCopyWarning)\n",
    "# Ignore FutureWarning\n",
    "warnings.simplefilter(action='ignore', category=FutureWarning)"
   ]
  },
  {
   "cell_type": "markdown",
   "id": "0e20c2a9-5a70-41d4-89e0-e32331b0dd1b",
   "metadata": {},
   "source": [
    "## Importing Book Data"
   ]
  },
  {
   "cell_type": "code",
   "execution_count": 2,
   "id": "1f64a883-6ab5-4891-b56c-35e1116eeb6a",
   "metadata": {},
   "outputs": [
    {
     "data": {
      "text/html": [
       "<div>\n",
       "<style scoped>\n",
       "    .dataframe tbody tr th:only-of-type {\n",
       "        vertical-align: middle;\n",
       "    }\n",
       "\n",
       "    .dataframe tbody tr th {\n",
       "        vertical-align: top;\n",
       "    }\n",
       "\n",
       "    .dataframe thead th {\n",
       "        text-align: right;\n",
       "    }\n",
       "</style>\n",
       "<table border=\"1\" class=\"dataframe\">\n",
       "  <thead>\n",
       "    <tr style=\"text-align: right;\">\n",
       "      <th></th>\n",
       "      <th>Title</th>\n",
       "      <th>description</th>\n",
       "      <th>authors</th>\n",
       "      <th>image</th>\n",
       "      <th>previewLink</th>\n",
       "      <th>publisher</th>\n",
       "      <th>publishedDate</th>\n",
       "      <th>infoLink</th>\n",
       "      <th>categories</th>\n",
       "      <th>ratingsCount</th>\n",
       "    </tr>\n",
       "  </thead>\n",
       "  <tbody>\n",
       "    <tr>\n",
       "      <th>0</th>\n",
       "      <td>Its Only Art If Its Well Hung!</td>\n",
       "      <td>NaN</td>\n",
       "      <td>['Julie Strain']</td>\n",
       "      <td>http://books.google.com/books/content?id=DykPA...</td>\n",
       "      <td>http://books.google.nl/books?id=DykPAAAACAAJ&amp;d...</td>\n",
       "      <td>NaN</td>\n",
       "      <td>1996</td>\n",
       "      <td>http://books.google.nl/books?id=DykPAAAACAAJ&amp;d...</td>\n",
       "      <td>['Comics &amp; Graphic Novels']</td>\n",
       "      <td>NaN</td>\n",
       "    </tr>\n",
       "    <tr>\n",
       "      <th>1</th>\n",
       "      <td>Dr. Seuss: American Icon</td>\n",
       "      <td>Philip Nel takes a fascinating look into the k...</td>\n",
       "      <td>['Philip Nel']</td>\n",
       "      <td>http://books.google.com/books/content?id=IjvHQ...</td>\n",
       "      <td>http://books.google.nl/books?id=IjvHQsCn_pgC&amp;p...</td>\n",
       "      <td>A&amp;C Black</td>\n",
       "      <td>2005-01-01</td>\n",
       "      <td>http://books.google.nl/books?id=IjvHQsCn_pgC&amp;d...</td>\n",
       "      <td>['Biography &amp; Autobiography']</td>\n",
       "      <td>NaN</td>\n",
       "    </tr>\n",
       "    <tr>\n",
       "      <th>2</th>\n",
       "      <td>Wonderful Worship in Smaller Churches</td>\n",
       "      <td>This resource includes twelve principles in un...</td>\n",
       "      <td>['David R. Ray']</td>\n",
       "      <td>http://books.google.com/books/content?id=2tsDA...</td>\n",
       "      <td>http://books.google.nl/books?id=2tsDAAAACAAJ&amp;d...</td>\n",
       "      <td>NaN</td>\n",
       "      <td>2000</td>\n",
       "      <td>http://books.google.nl/books?id=2tsDAAAACAAJ&amp;d...</td>\n",
       "      <td>['Religion']</td>\n",
       "      <td>NaN</td>\n",
       "    </tr>\n",
       "    <tr>\n",
       "      <th>3</th>\n",
       "      <td>Whispers of the Wicked Saints</td>\n",
       "      <td>Julia Thomas finds her life spinning out of co...</td>\n",
       "      <td>['Veronica Haddon']</td>\n",
       "      <td>http://books.google.com/books/content?id=aRSIg...</td>\n",
       "      <td>http://books.google.nl/books?id=aRSIgJlq6JwC&amp;d...</td>\n",
       "      <td>iUniverse</td>\n",
       "      <td>2005-02</td>\n",
       "      <td>http://books.google.nl/books?id=aRSIgJlq6JwC&amp;d...</td>\n",
       "      <td>['Fiction']</td>\n",
       "      <td>NaN</td>\n",
       "    </tr>\n",
       "    <tr>\n",
       "      <th>4</th>\n",
       "      <td>Nation Dance: Religion, Identity and Cultural ...</td>\n",
       "      <td>NaN</td>\n",
       "      <td>['Edward Long']</td>\n",
       "      <td>NaN</td>\n",
       "      <td>http://books.google.nl/books?id=399SPgAACAAJ&amp;d...</td>\n",
       "      <td>NaN</td>\n",
       "      <td>2003-03-01</td>\n",
       "      <td>http://books.google.nl/books?id=399SPgAACAAJ&amp;d...</td>\n",
       "      <td>NaN</td>\n",
       "      <td>NaN</td>\n",
       "    </tr>\n",
       "  </tbody>\n",
       "</table>\n",
       "</div>"
      ],
      "text/plain": [
       "                                               Title  \\\n",
       "0                     Its Only Art If Its Well Hung!   \n",
       "1                           Dr. Seuss: American Icon   \n",
       "2              Wonderful Worship in Smaller Churches   \n",
       "3                      Whispers of the Wicked Saints   \n",
       "4  Nation Dance: Religion, Identity and Cultural ...   \n",
       "\n",
       "                                         description              authors  \\\n",
       "0                                                NaN     ['Julie Strain']   \n",
       "1  Philip Nel takes a fascinating look into the k...       ['Philip Nel']   \n",
       "2  This resource includes twelve principles in un...     ['David R. Ray']   \n",
       "3  Julia Thomas finds her life spinning out of co...  ['Veronica Haddon']   \n",
       "4                                                NaN      ['Edward Long']   \n",
       "\n",
       "                                               image  \\\n",
       "0  http://books.google.com/books/content?id=DykPA...   \n",
       "1  http://books.google.com/books/content?id=IjvHQ...   \n",
       "2  http://books.google.com/books/content?id=2tsDA...   \n",
       "3  http://books.google.com/books/content?id=aRSIg...   \n",
       "4                                                NaN   \n",
       "\n",
       "                                         previewLink  publisher publishedDate  \\\n",
       "0  http://books.google.nl/books?id=DykPAAAACAAJ&d...        NaN          1996   \n",
       "1  http://books.google.nl/books?id=IjvHQsCn_pgC&p...  A&C Black    2005-01-01   \n",
       "2  http://books.google.nl/books?id=2tsDAAAACAAJ&d...        NaN          2000   \n",
       "3  http://books.google.nl/books?id=aRSIgJlq6JwC&d...  iUniverse       2005-02   \n",
       "4  http://books.google.nl/books?id=399SPgAACAAJ&d...        NaN    2003-03-01   \n",
       "\n",
       "                                            infoLink  \\\n",
       "0  http://books.google.nl/books?id=DykPAAAACAAJ&d...   \n",
       "1  http://books.google.nl/books?id=IjvHQsCn_pgC&d...   \n",
       "2  http://books.google.nl/books?id=2tsDAAAACAAJ&d...   \n",
       "3  http://books.google.nl/books?id=aRSIgJlq6JwC&d...   \n",
       "4  http://books.google.nl/books?id=399SPgAACAAJ&d...   \n",
       "\n",
       "                      categories  ratingsCount  \n",
       "0    ['Comics & Graphic Novels']           NaN  \n",
       "1  ['Biography & Autobiography']           NaN  \n",
       "2                   ['Religion']           NaN  \n",
       "3                    ['Fiction']           NaN  \n",
       "4                            NaN           NaN  "
      ]
     },
     "execution_count": 2,
     "metadata": {},
     "output_type": "execute_result"
    }
   ],
   "source": [
    "data = pd.read_csv(\"D://MBA//SEM 4//Capstone Project & Viva Voce//Dataset//Amazon Book Reviews//books_data.csv//books_data.csv\")\n",
    "data.head()"
   ]
  },
  {
   "cell_type": "markdown",
   "id": "9a708671-df0d-4e12-8736-50db52ffd489",
   "metadata": {},
   "source": [
    "## Data Exploration"
   ]
  },
  {
   "cell_type": "code",
   "execution_count": 3,
   "id": "003d6aec-af5e-49db-9a14-e6b5c1156997",
   "metadata": {},
   "outputs": [
    {
     "data": {
      "text/plain": [
       "(212404, 10)"
      ]
     },
     "execution_count": 3,
     "metadata": {},
     "output_type": "execute_result"
    }
   ],
   "source": [
    "data.shape"
   ]
  },
  {
   "cell_type": "code",
   "execution_count": 4,
   "id": "413433c1-4cb4-4a1a-97b3-d61b6712df8d",
   "metadata": {},
   "outputs": [
    {
     "name": "stdout",
     "output_type": "stream",
     "text": [
      "<class 'pandas.core.frame.DataFrame'>\n",
      "RangeIndex: 212404 entries, 0 to 212403\n",
      "Data columns (total 10 columns):\n",
      " #   Column         Non-Null Count   Dtype  \n",
      "---  ------         --------------   -----  \n",
      " 0   Title          212403 non-null  object \n",
      " 1   description    143962 non-null  object \n",
      " 2   authors        180991 non-null  object \n",
      " 3   image          160329 non-null  object \n",
      " 4   previewLink    188568 non-null  object \n",
      " 5   publisher      136518 non-null  object \n",
      " 6   publishedDate  187099 non-null  object \n",
      " 7   infoLink       188568 non-null  object \n",
      " 8   categories     171205 non-null  object \n",
      " 9   ratingsCount   49752 non-null   float64\n",
      "dtypes: float64(1), object(9)\n",
      "memory usage: 16.2+ MB\n"
     ]
    }
   ],
   "source": [
    "data.info()"
   ]
  },
  {
   "cell_type": "markdown",
   "id": "2eb9bf65-b520-455f-9216-765e0936affb",
   "metadata": {},
   "source": [
    "# Data Types"
   ]
  },
  {
   "cell_type": "code",
   "execution_count": 5,
   "id": "87cfc73d-ef30-4fcb-89fb-9bf1f14a7e83",
   "metadata": {},
   "outputs": [
    {
     "name": "stdout",
     "output_type": "stream",
     "text": [
      "        ratingsCount\n",
      "0                NaN\n",
      "1                NaN\n",
      "2                NaN\n",
      "3                NaN\n",
      "4                NaN\n",
      "...              ...\n",
      "212399           2.0\n",
      "212400           NaN\n",
      "212401           NaN\n",
      "212402          19.0\n",
      "212403           NaN\n",
      "\n",
      "[212404 rows x 1 columns]\n"
     ]
    }
   ],
   "source": [
    "print(data.select_dtypes(include=['category', 'float64']))"
   ]
  },
  {
   "cell_type": "code",
   "execution_count": 6,
   "id": "df76a957-c23d-413e-956c-75897aa6be66",
   "metadata": {},
   "outputs": [
    {
     "name": "stdout",
     "output_type": "stream",
     "text": [
      "                                                    Title  \\\n",
      "0                          Its Only Art If Its Well Hung!   \n",
      "1                                Dr. Seuss: American Icon   \n",
      "2                   Wonderful Worship in Smaller Churches   \n",
      "3                           Whispers of the Wicked Saints   \n",
      "4       Nation Dance: Religion, Identity and Cultural ...   \n",
      "...                                                   ...   \n",
      "212399  The Orphan Of Ellis Island (Time Travel Advent...   \n",
      "212400                            Red Boots for Christmas   \n",
      "212401                                              Mamaw   \n",
      "212402                                  The Autograph Man   \n",
      "212403  Student's Solutions Manual for Johnson/Mowry's...   \n",
      "\n",
      "                                              description  \\\n",
      "0                                                     NaN   \n",
      "1       Philip Nel takes a fascinating look into the k...   \n",
      "2       This resource includes twelve principles in un...   \n",
      "3       Julia Thomas finds her life spinning out of co...   \n",
      "4                                                     NaN   \n",
      "...                                                   ...   \n",
      "212399  During a school trip to Ellis Island, Dominick...   \n",
      "212400  Everyone in the village of Friedensdorf is hap...   \n",
      "212401  Give your Mamaw a useful, beautiful and though...   \n",
      "212402  Alex-Li Tandem sells autographs. His business ...   \n",
      "212403  Discover the many ways mathematics is relevant...   \n",
      "\n",
      "                                        authors  \\\n",
      "0                              ['Julie Strain']   \n",
      "1                                ['Philip Nel']   \n",
      "2                              ['David R. Ray']   \n",
      "3                           ['Veronica Haddon']   \n",
      "4                               ['Edward Long']   \n",
      "...                                         ...   \n",
      "212399                      ['Elvira Woodruff']   \n",
      "212400                                      NaN   \n",
      "212401                    ['Wild Wild Cabbage']   \n",
      "212402                          ['Zadie Smith']   \n",
      "212403  ['David B. Johnson', 'Thomas A. Mowry']   \n",
      "\n",
      "                                                    image  \\\n",
      "0       http://books.google.com/books/content?id=DykPA...   \n",
      "1       http://books.google.com/books/content?id=IjvHQ...   \n",
      "2       http://books.google.com/books/content?id=2tsDA...   \n",
      "3       http://books.google.com/books/content?id=aRSIg...   \n",
      "4                                                     NaN   \n",
      "...                                                   ...   \n",
      "212399  http://books.google.com/books/content?id=J7M-N...   \n",
      "212400  http://books.google.com/books/content?id=3n8k6...   \n",
      "212401                                                NaN   \n",
      "212402  http://books.google.com/books/content?id=JM6YV...   \n",
      "212403  http://books.google.com/books/content?id=dehfP...   \n",
      "\n",
      "                                              previewLink  \\\n",
      "0       http://books.google.nl/books?id=DykPAAAACAAJ&d...   \n",
      "1       http://books.google.nl/books?id=IjvHQsCn_pgC&p...   \n",
      "2       http://books.google.nl/books?id=2tsDAAAACAAJ&d...   \n",
      "3       http://books.google.nl/books?id=aRSIgJlq6JwC&d...   \n",
      "4       http://books.google.nl/books?id=399SPgAACAAJ&d...   \n",
      "...                                                   ...   \n",
      "212399  http://books.google.com/books?id=J7M-NwAACAAJ&...   \n",
      "212400  http://books.google.com/books?id=3n8k6wl4BbYC&...   \n",
      "212401  http://books.google.com/books?id=zytVswEACAAJ&...   \n",
      "212402  http://books.google.com/books?id=JM6YVPx_clMC&...   \n",
      "212403  http://books.google.com/books?id=dehfPgAACAAJ&...   \n",
      "\n",
      "                             publisher publishedDate  \\\n",
      "0                                  NaN          1996   \n",
      "1                            A&C Black    2005-01-01   \n",
      "2                                  NaN          2000   \n",
      "3                            iUniverse       2005-02   \n",
      "4                                  NaN    2003-03-01   \n",
      "...                                ...           ...   \n",
      "212399           Scholastic Paperbacks    2000-06-01   \n",
      "212400                             NaN          1995   \n",
      "212401                             NaN    2018-01-17   \n",
      "212402                         Vintage    2003-08-12   \n",
      "212403  Brooks/Cole Publishing Company    1998-01-01   \n",
      "\n",
      "                                                 infoLink  \\\n",
      "0       http://books.google.nl/books?id=DykPAAAACAAJ&d...   \n",
      "1       http://books.google.nl/books?id=IjvHQsCn_pgC&d...   \n",
      "2       http://books.google.nl/books?id=2tsDAAAACAAJ&d...   \n",
      "3       http://books.google.nl/books?id=aRSIgJlq6JwC&d...   \n",
      "4       http://books.google.nl/books?id=399SPgAACAAJ&d...   \n",
      "...                                                   ...   \n",
      "212399  http://books.google.com/books?id=J7M-NwAACAAJ&...   \n",
      "212400  http://books.google.com/books?id=3n8k6wl4BbYC&...   \n",
      "212401  http://books.google.com/books?id=zytVswEACAAJ&...   \n",
      "212402  https://play.google.com/store/books/details?id...   \n",
      "212403  http://books.google.com/books?id=dehfPgAACAAJ&...   \n",
      "\n",
      "                           categories  \n",
      "0         ['Comics & Graphic Novels']  \n",
      "1       ['Biography & Autobiography']  \n",
      "2                        ['Religion']  \n",
      "3                         ['Fiction']  \n",
      "4                                 NaN  \n",
      "...                               ...  \n",
      "212399           ['Juvenile Fiction']  \n",
      "212400           ['Juvenile Fiction']  \n",
      "212401                            NaN  \n",
      "212402                    ['Fiction']  \n",
      "212403                            NaN  \n",
      "\n",
      "[212404 rows x 9 columns]\n"
     ]
    }
   ],
   "source": [
    "print(data.select_dtypes(include=['category', 'object']))"
   ]
  },
  {
   "cell_type": "markdown",
   "id": "3795a544-b894-4c03-b578-aab856477ad9",
   "metadata": {},
   "source": [
    "## Continuous variable"
   ]
  },
  {
   "cell_type": "code",
   "execution_count": 7,
   "id": "9727ff0b-640d-4b8f-8440-cec8339a7828",
   "metadata": {},
   "outputs": [
    {
     "data": {
      "text/html": [
       "<div>\n",
       "<style scoped>\n",
       "    .dataframe tbody tr th:only-of-type {\n",
       "        vertical-align: middle;\n",
       "    }\n",
       "\n",
       "    .dataframe tbody tr th {\n",
       "        vertical-align: top;\n",
       "    }\n",
       "\n",
       "    .dataframe thead th {\n",
       "        text-align: right;\n",
       "    }\n",
       "</style>\n",
       "<table border=\"1\" class=\"dataframe\">\n",
       "  <thead>\n",
       "    <tr style=\"text-align: right;\">\n",
       "      <th></th>\n",
       "      <th>ratingsCount</th>\n",
       "    </tr>\n",
       "  </thead>\n",
       "  <tbody>\n",
       "    <tr>\n",
       "      <th>0</th>\n",
       "      <td>NaN</td>\n",
       "    </tr>\n",
       "    <tr>\n",
       "      <th>1</th>\n",
       "      <td>NaN</td>\n",
       "    </tr>\n",
       "    <tr>\n",
       "      <th>2</th>\n",
       "      <td>NaN</td>\n",
       "    </tr>\n",
       "    <tr>\n",
       "      <th>3</th>\n",
       "      <td>NaN</td>\n",
       "    </tr>\n",
       "    <tr>\n",
       "      <th>4</th>\n",
       "      <td>NaN</td>\n",
       "    </tr>\n",
       "    <tr>\n",
       "      <th>...</th>\n",
       "      <td>...</td>\n",
       "    </tr>\n",
       "    <tr>\n",
       "      <th>212399</th>\n",
       "      <td>2.0</td>\n",
       "    </tr>\n",
       "    <tr>\n",
       "      <th>212400</th>\n",
       "      <td>NaN</td>\n",
       "    </tr>\n",
       "    <tr>\n",
       "      <th>212401</th>\n",
       "      <td>NaN</td>\n",
       "    </tr>\n",
       "    <tr>\n",
       "      <th>212402</th>\n",
       "      <td>19.0</td>\n",
       "    </tr>\n",
       "    <tr>\n",
       "      <th>212403</th>\n",
       "      <td>NaN</td>\n",
       "    </tr>\n",
       "  </tbody>\n",
       "</table>\n",
       "<p>212404 rows × 1 columns</p>\n",
       "</div>"
      ],
      "text/plain": [
       "        ratingsCount\n",
       "0                NaN\n",
       "1                NaN\n",
       "2                NaN\n",
       "3                NaN\n",
       "4                NaN\n",
       "...              ...\n",
       "212399           2.0\n",
       "212400           NaN\n",
       "212401           NaN\n",
       "212402          19.0\n",
       "212403           NaN\n",
       "\n",
       "[212404 rows x 1 columns]"
      ]
     },
     "execution_count": 7,
     "metadata": {},
     "output_type": "execute_result"
    }
   ],
   "source": [
    "# Viewing continuous variable\n",
    "continuous_vars = data.select_dtypes(include=[np.number])\n",
    "continuous_vars"
   ]
  },
  {
   "cell_type": "markdown",
   "id": "9efdfc05-576a-41de-8803-623b78c11046",
   "metadata": {},
   "source": [
    "##Categorical Variable"
   ]
  },
  {
   "cell_type": "code",
   "execution_count": 8,
   "id": "4366bba9-43c9-438c-a9e7-465e652c37e0",
   "metadata": {},
   "outputs": [
    {
     "data": {
      "text/html": [
       "<div>\n",
       "<style scoped>\n",
       "    .dataframe tbody tr th:only-of-type {\n",
       "        vertical-align: middle;\n",
       "    }\n",
       "\n",
       "    .dataframe tbody tr th {\n",
       "        vertical-align: top;\n",
       "    }\n",
       "\n",
       "    .dataframe thead th {\n",
       "        text-align: right;\n",
       "    }\n",
       "</style>\n",
       "<table border=\"1\" class=\"dataframe\">\n",
       "  <thead>\n",
       "    <tr style=\"text-align: right;\">\n",
       "      <th></th>\n",
       "      <th>Title</th>\n",
       "      <th>description</th>\n",
       "      <th>authors</th>\n",
       "      <th>image</th>\n",
       "      <th>previewLink</th>\n",
       "      <th>publisher</th>\n",
       "      <th>publishedDate</th>\n",
       "      <th>infoLink</th>\n",
       "      <th>categories</th>\n",
       "    </tr>\n",
       "  </thead>\n",
       "  <tbody>\n",
       "    <tr>\n",
       "      <th>0</th>\n",
       "      <td>Its Only Art If Its Well Hung!</td>\n",
       "      <td>NaN</td>\n",
       "      <td>['Julie Strain']</td>\n",
       "      <td>http://books.google.com/books/content?id=DykPA...</td>\n",
       "      <td>http://books.google.nl/books?id=DykPAAAACAAJ&amp;d...</td>\n",
       "      <td>NaN</td>\n",
       "      <td>1996</td>\n",
       "      <td>http://books.google.nl/books?id=DykPAAAACAAJ&amp;d...</td>\n",
       "      <td>['Comics &amp; Graphic Novels']</td>\n",
       "    </tr>\n",
       "    <tr>\n",
       "      <th>1</th>\n",
       "      <td>Dr. Seuss: American Icon</td>\n",
       "      <td>Philip Nel takes a fascinating look into the k...</td>\n",
       "      <td>['Philip Nel']</td>\n",
       "      <td>http://books.google.com/books/content?id=IjvHQ...</td>\n",
       "      <td>http://books.google.nl/books?id=IjvHQsCn_pgC&amp;p...</td>\n",
       "      <td>A&amp;C Black</td>\n",
       "      <td>2005-01-01</td>\n",
       "      <td>http://books.google.nl/books?id=IjvHQsCn_pgC&amp;d...</td>\n",
       "      <td>['Biography &amp; Autobiography']</td>\n",
       "    </tr>\n",
       "    <tr>\n",
       "      <th>2</th>\n",
       "      <td>Wonderful Worship in Smaller Churches</td>\n",
       "      <td>This resource includes twelve principles in un...</td>\n",
       "      <td>['David R. Ray']</td>\n",
       "      <td>http://books.google.com/books/content?id=2tsDA...</td>\n",
       "      <td>http://books.google.nl/books?id=2tsDAAAACAAJ&amp;d...</td>\n",
       "      <td>NaN</td>\n",
       "      <td>2000</td>\n",
       "      <td>http://books.google.nl/books?id=2tsDAAAACAAJ&amp;d...</td>\n",
       "      <td>['Religion']</td>\n",
       "    </tr>\n",
       "    <tr>\n",
       "      <th>3</th>\n",
       "      <td>Whispers of the Wicked Saints</td>\n",
       "      <td>Julia Thomas finds her life spinning out of co...</td>\n",
       "      <td>['Veronica Haddon']</td>\n",
       "      <td>http://books.google.com/books/content?id=aRSIg...</td>\n",
       "      <td>http://books.google.nl/books?id=aRSIgJlq6JwC&amp;d...</td>\n",
       "      <td>iUniverse</td>\n",
       "      <td>2005-02</td>\n",
       "      <td>http://books.google.nl/books?id=aRSIgJlq6JwC&amp;d...</td>\n",
       "      <td>['Fiction']</td>\n",
       "    </tr>\n",
       "    <tr>\n",
       "      <th>4</th>\n",
       "      <td>Nation Dance: Religion, Identity and Cultural ...</td>\n",
       "      <td>NaN</td>\n",
       "      <td>['Edward Long']</td>\n",
       "      <td>NaN</td>\n",
       "      <td>http://books.google.nl/books?id=399SPgAACAAJ&amp;d...</td>\n",
       "      <td>NaN</td>\n",
       "      <td>2003-03-01</td>\n",
       "      <td>http://books.google.nl/books?id=399SPgAACAAJ&amp;d...</td>\n",
       "      <td>NaN</td>\n",
       "    </tr>\n",
       "    <tr>\n",
       "      <th>...</th>\n",
       "      <td>...</td>\n",
       "      <td>...</td>\n",
       "      <td>...</td>\n",
       "      <td>...</td>\n",
       "      <td>...</td>\n",
       "      <td>...</td>\n",
       "      <td>...</td>\n",
       "      <td>...</td>\n",
       "      <td>...</td>\n",
       "    </tr>\n",
       "    <tr>\n",
       "      <th>212399</th>\n",
       "      <td>The Orphan Of Ellis Island (Time Travel Advent...</td>\n",
       "      <td>During a school trip to Ellis Island, Dominick...</td>\n",
       "      <td>['Elvira Woodruff']</td>\n",
       "      <td>http://books.google.com/books/content?id=J7M-N...</td>\n",
       "      <td>http://books.google.com/books?id=J7M-NwAACAAJ&amp;...</td>\n",
       "      <td>Scholastic Paperbacks</td>\n",
       "      <td>2000-06-01</td>\n",
       "      <td>http://books.google.com/books?id=J7M-NwAACAAJ&amp;...</td>\n",
       "      <td>['Juvenile Fiction']</td>\n",
       "    </tr>\n",
       "    <tr>\n",
       "      <th>212400</th>\n",
       "      <td>Red Boots for Christmas</td>\n",
       "      <td>Everyone in the village of Friedensdorf is hap...</td>\n",
       "      <td>NaN</td>\n",
       "      <td>http://books.google.com/books/content?id=3n8k6...</td>\n",
       "      <td>http://books.google.com/books?id=3n8k6wl4BbYC&amp;...</td>\n",
       "      <td>NaN</td>\n",
       "      <td>1995</td>\n",
       "      <td>http://books.google.com/books?id=3n8k6wl4BbYC&amp;...</td>\n",
       "      <td>['Juvenile Fiction']</td>\n",
       "    </tr>\n",
       "    <tr>\n",
       "      <th>212401</th>\n",
       "      <td>Mamaw</td>\n",
       "      <td>Give your Mamaw a useful, beautiful and though...</td>\n",
       "      <td>['Wild Wild Cabbage']</td>\n",
       "      <td>NaN</td>\n",
       "      <td>http://books.google.com/books?id=zytVswEACAAJ&amp;...</td>\n",
       "      <td>NaN</td>\n",
       "      <td>2018-01-17</td>\n",
       "      <td>http://books.google.com/books?id=zytVswEACAAJ&amp;...</td>\n",
       "      <td>NaN</td>\n",
       "    </tr>\n",
       "    <tr>\n",
       "      <th>212402</th>\n",
       "      <td>The Autograph Man</td>\n",
       "      <td>Alex-Li Tandem sells autographs. His business ...</td>\n",
       "      <td>['Zadie Smith']</td>\n",
       "      <td>http://books.google.com/books/content?id=JM6YV...</td>\n",
       "      <td>http://books.google.com/books?id=JM6YVPx_clMC&amp;...</td>\n",
       "      <td>Vintage</td>\n",
       "      <td>2003-08-12</td>\n",
       "      <td>https://play.google.com/store/books/details?id...</td>\n",
       "      <td>['Fiction']</td>\n",
       "    </tr>\n",
       "    <tr>\n",
       "      <th>212403</th>\n",
       "      <td>Student's Solutions Manual for Johnson/Mowry's...</td>\n",
       "      <td>Discover the many ways mathematics is relevant...</td>\n",
       "      <td>['David B. Johnson', 'Thomas A. Mowry']</td>\n",
       "      <td>http://books.google.com/books/content?id=dehfP...</td>\n",
       "      <td>http://books.google.com/books?id=dehfPgAACAAJ&amp;...</td>\n",
       "      <td>Brooks/Cole Publishing Company</td>\n",
       "      <td>1998-01-01</td>\n",
       "      <td>http://books.google.com/books?id=dehfPgAACAAJ&amp;...</td>\n",
       "      <td>NaN</td>\n",
       "    </tr>\n",
       "  </tbody>\n",
       "</table>\n",
       "<p>212404 rows × 9 columns</p>\n",
       "</div>"
      ],
      "text/plain": [
       "                                                    Title  \\\n",
       "0                          Its Only Art If Its Well Hung!   \n",
       "1                                Dr. Seuss: American Icon   \n",
       "2                   Wonderful Worship in Smaller Churches   \n",
       "3                           Whispers of the Wicked Saints   \n",
       "4       Nation Dance: Religion, Identity and Cultural ...   \n",
       "...                                                   ...   \n",
       "212399  The Orphan Of Ellis Island (Time Travel Advent...   \n",
       "212400                            Red Boots for Christmas   \n",
       "212401                                              Mamaw   \n",
       "212402                                  The Autograph Man   \n",
       "212403  Student's Solutions Manual for Johnson/Mowry's...   \n",
       "\n",
       "                                              description  \\\n",
       "0                                                     NaN   \n",
       "1       Philip Nel takes a fascinating look into the k...   \n",
       "2       This resource includes twelve principles in un...   \n",
       "3       Julia Thomas finds her life spinning out of co...   \n",
       "4                                                     NaN   \n",
       "...                                                   ...   \n",
       "212399  During a school trip to Ellis Island, Dominick...   \n",
       "212400  Everyone in the village of Friedensdorf is hap...   \n",
       "212401  Give your Mamaw a useful, beautiful and though...   \n",
       "212402  Alex-Li Tandem sells autographs. His business ...   \n",
       "212403  Discover the many ways mathematics is relevant...   \n",
       "\n",
       "                                        authors  \\\n",
       "0                              ['Julie Strain']   \n",
       "1                                ['Philip Nel']   \n",
       "2                              ['David R. Ray']   \n",
       "3                           ['Veronica Haddon']   \n",
       "4                               ['Edward Long']   \n",
       "...                                         ...   \n",
       "212399                      ['Elvira Woodruff']   \n",
       "212400                                      NaN   \n",
       "212401                    ['Wild Wild Cabbage']   \n",
       "212402                          ['Zadie Smith']   \n",
       "212403  ['David B. Johnson', 'Thomas A. Mowry']   \n",
       "\n",
       "                                                    image  \\\n",
       "0       http://books.google.com/books/content?id=DykPA...   \n",
       "1       http://books.google.com/books/content?id=IjvHQ...   \n",
       "2       http://books.google.com/books/content?id=2tsDA...   \n",
       "3       http://books.google.com/books/content?id=aRSIg...   \n",
       "4                                                     NaN   \n",
       "...                                                   ...   \n",
       "212399  http://books.google.com/books/content?id=J7M-N...   \n",
       "212400  http://books.google.com/books/content?id=3n8k6...   \n",
       "212401                                                NaN   \n",
       "212402  http://books.google.com/books/content?id=JM6YV...   \n",
       "212403  http://books.google.com/books/content?id=dehfP...   \n",
       "\n",
       "                                              previewLink  \\\n",
       "0       http://books.google.nl/books?id=DykPAAAACAAJ&d...   \n",
       "1       http://books.google.nl/books?id=IjvHQsCn_pgC&p...   \n",
       "2       http://books.google.nl/books?id=2tsDAAAACAAJ&d...   \n",
       "3       http://books.google.nl/books?id=aRSIgJlq6JwC&d...   \n",
       "4       http://books.google.nl/books?id=399SPgAACAAJ&d...   \n",
       "...                                                   ...   \n",
       "212399  http://books.google.com/books?id=J7M-NwAACAAJ&...   \n",
       "212400  http://books.google.com/books?id=3n8k6wl4BbYC&...   \n",
       "212401  http://books.google.com/books?id=zytVswEACAAJ&...   \n",
       "212402  http://books.google.com/books?id=JM6YVPx_clMC&...   \n",
       "212403  http://books.google.com/books?id=dehfPgAACAAJ&...   \n",
       "\n",
       "                             publisher publishedDate  \\\n",
       "0                                  NaN          1996   \n",
       "1                            A&C Black    2005-01-01   \n",
       "2                                  NaN          2000   \n",
       "3                            iUniverse       2005-02   \n",
       "4                                  NaN    2003-03-01   \n",
       "...                                ...           ...   \n",
       "212399           Scholastic Paperbacks    2000-06-01   \n",
       "212400                             NaN          1995   \n",
       "212401                             NaN    2018-01-17   \n",
       "212402                         Vintage    2003-08-12   \n",
       "212403  Brooks/Cole Publishing Company    1998-01-01   \n",
       "\n",
       "                                                 infoLink  \\\n",
       "0       http://books.google.nl/books?id=DykPAAAACAAJ&d...   \n",
       "1       http://books.google.nl/books?id=IjvHQsCn_pgC&d...   \n",
       "2       http://books.google.nl/books?id=2tsDAAAACAAJ&d...   \n",
       "3       http://books.google.nl/books?id=aRSIgJlq6JwC&d...   \n",
       "4       http://books.google.nl/books?id=399SPgAACAAJ&d...   \n",
       "...                                                   ...   \n",
       "212399  http://books.google.com/books?id=J7M-NwAACAAJ&...   \n",
       "212400  http://books.google.com/books?id=3n8k6wl4BbYC&...   \n",
       "212401  http://books.google.com/books?id=zytVswEACAAJ&...   \n",
       "212402  https://play.google.com/store/books/details?id...   \n",
       "212403  http://books.google.com/books?id=dehfPgAACAAJ&...   \n",
       "\n",
       "                           categories  \n",
       "0         ['Comics & Graphic Novels']  \n",
       "1       ['Biography & Autobiography']  \n",
       "2                        ['Religion']  \n",
       "3                         ['Fiction']  \n",
       "4                                 NaN  \n",
       "...                               ...  \n",
       "212399           ['Juvenile Fiction']  \n",
       "212400           ['Juvenile Fiction']  \n",
       "212401                            NaN  \n",
       "212402                    ['Fiction']  \n",
       "212403                            NaN  \n",
       "\n",
       "[212404 rows x 9 columns]"
      ]
     },
     "execution_count": 8,
     "metadata": {},
     "output_type": "execute_result"
    }
   ],
   "source": [
    "# Viewing categorical variable\n",
    "categorical_vars = data.select_dtypes(include=['object'])\n",
    "categorical_vars"
   ]
  },
  {
   "cell_type": "markdown",
   "id": "3fa16627-1e27-4ed9-8aa8-8444c41cee9f",
   "metadata": {},
   "source": [
    "## Viewing measures"
   ]
  },
  {
   "cell_type": "code",
   "execution_count": 9,
   "id": "4ea83542-89d8-4e63-9b04-688e2b293a9b",
   "metadata": {},
   "outputs": [],
   "source": [
    "pd.set_option('display.float_format', '{:f}'.format)"
   ]
  },
  {
   "cell_type": "code",
   "execution_count": 10,
   "id": "9bf9420f-3b78-4cd1-8634-aabf99b9a418",
   "metadata": {},
   "outputs": [
    {
     "data": {
      "text/html": [
       "<div>\n",
       "<style scoped>\n",
       "    .dataframe tbody tr th:only-of-type {\n",
       "        vertical-align: middle;\n",
       "    }\n",
       "\n",
       "    .dataframe tbody tr th {\n",
       "        vertical-align: top;\n",
       "    }\n",
       "\n",
       "    .dataframe thead th {\n",
       "        text-align: right;\n",
       "    }\n",
       "</style>\n",
       "<table border=\"1\" class=\"dataframe\">\n",
       "  <thead>\n",
       "    <tr style=\"text-align: right;\">\n",
       "      <th></th>\n",
       "      <th>ratingsCount</th>\n",
       "    </tr>\n",
       "  </thead>\n",
       "  <tbody>\n",
       "    <tr>\n",
       "      <th>count</th>\n",
       "      <td>49752.000000</td>\n",
       "    </tr>\n",
       "    <tr>\n",
       "      <th>mean</th>\n",
       "      <td>21.252975</td>\n",
       "    </tr>\n",
       "    <tr>\n",
       "      <th>std</th>\n",
       "      <td>201.340431</td>\n",
       "    </tr>\n",
       "    <tr>\n",
       "      <th>min</th>\n",
       "      <td>1.000000</td>\n",
       "    </tr>\n",
       "    <tr>\n",
       "      <th>25%</th>\n",
       "      <td>1.000000</td>\n",
       "    </tr>\n",
       "    <tr>\n",
       "      <th>50%</th>\n",
       "      <td>2.000000</td>\n",
       "    </tr>\n",
       "    <tr>\n",
       "      <th>75%</th>\n",
       "      <td>5.000000</td>\n",
       "    </tr>\n",
       "    <tr>\n",
       "      <th>max</th>\n",
       "      <td>4895.000000</td>\n",
       "    </tr>\n",
       "  </tbody>\n",
       "</table>\n",
       "</div>"
      ],
      "text/plain": [
       "       ratingsCount\n",
       "count  49752.000000\n",
       "mean      21.252975\n",
       "std      201.340431\n",
       "min        1.000000\n",
       "25%        1.000000\n",
       "50%        2.000000\n",
       "75%        5.000000\n",
       "max     4895.000000"
      ]
     },
     "execution_count": 10,
     "metadata": {},
     "output_type": "execute_result"
    }
   ],
   "source": [
    "data.describe()"
   ]
  },
  {
   "cell_type": "markdown",
   "id": "76b4cd84-7661-41b1-8392-cbe05c6bb508",
   "metadata": {},
   "source": [
    "## Check for Missing Values "
   ]
  },
  {
   "cell_type": "code",
   "execution_count": 11,
   "id": "8c973306-6207-4699-ad8a-b6d89b0d64dc",
   "metadata": {},
   "outputs": [
    {
     "data": {
      "text/plain": [
       "Title                 1\n",
       "description       68442\n",
       "authors           31413\n",
       "image             52075\n",
       "previewLink       23836\n",
       "publisher         75886\n",
       "publishedDate     25305\n",
       "infoLink          23836\n",
       "categories        41199\n",
       "ratingsCount     162652\n",
       "dtype: int64"
      ]
     },
     "execution_count": 11,
     "metadata": {},
     "output_type": "execute_result"
    }
   ],
   "source": [
    "data.isnull().sum()"
   ]
  },
  {
   "cell_type": "markdown",
   "id": "78046efa-3133-4da2-983d-4f1fe3e133c1",
   "metadata": {},
   "source": [
    "## Data Reduction"
   ]
  },
  {
   "cell_type": "code",
   "execution_count": 12,
   "id": "b5497056-8a23-4bb6-be94-61924cc3a29d",
   "metadata": {},
   "outputs": [
    {
     "data": {
      "text/plain": [
       "(212404, 4)"
      ]
     },
     "execution_count": 12,
     "metadata": {},
     "output_type": "execute_result"
    }
   ],
   "source": [
    "data_new =data[['Title','authors','categories','ratingsCount']]\n",
    "data_new.shape"
   ]
  },
  {
   "cell_type": "markdown",
   "id": "3ea2d677-b218-466f-b978-1e7a1c3a0080",
   "metadata": {},
   "source": [
    "# Handling Missing Values"
   ]
  },
  {
   "cell_type": "code",
   "execution_count": 13,
   "id": "27e6450a-8818-449c-9c25-6efe6a879cfb",
   "metadata": {},
   "outputs": [
    {
     "data": {
      "text/plain": [
       "Title                1\n",
       "authors          31413\n",
       "categories       41199\n",
       "ratingsCount    162652\n",
       "dtype: int64"
      ]
     },
     "execution_count": 13,
     "metadata": {},
     "output_type": "execute_result"
    }
   ],
   "source": [
    "data_new.isnull().sum()"
   ]
  },
  {
   "cell_type": "code",
   "execution_count": 14,
   "id": "c899501e-1a31-4ef6-85bd-dc2747be66f7",
   "metadata": {},
   "outputs": [
    {
     "data": {
      "text/plain": [
       "Title           0\n",
       "authors         0\n",
       "categories      0\n",
       "ratingsCount    0\n",
       "dtype: int64"
      ]
     },
     "execution_count": 14,
     "metadata": {},
     "output_type": "execute_result"
    }
   ],
   "source": [
    "data_new.dropna(subset=['Title'], inplace=True)\n",
    "data_new.dropna(subset=['authors'], inplace=True)\n",
    "data_new.dropna(subset=['categories'], inplace=True)\n",
    "data_new.dropna(subset=['ratingsCount'], inplace=True)\n",
    "data_new.isnull().sum()"
   ]
  },
  {
   "cell_type": "code",
   "execution_count": 15,
   "id": "ab501f89-2d86-4c7f-b023-ee767a93142f",
   "metadata": {},
   "outputs": [
    {
     "data": {
      "text/plain": [
       "(47269, 4)"
      ]
     },
     "execution_count": 15,
     "metadata": {},
     "output_type": "execute_result"
    }
   ],
   "source": [
    "data_new.shape"
   ]
  },
  {
   "cell_type": "markdown",
   "id": "c917fc11-97bf-465e-8331-2ae85a9aab47",
   "metadata": {},
   "source": [
    "# Books_rating"
   ]
  },
  {
   "cell_type": "markdown",
   "id": "ae84f978-34a6-45a0-8d4f-8f9e59f83da0",
   "metadata": {},
   "source": [
    "## Importing Book Data"
   ]
  },
  {
   "cell_type": "code",
   "execution_count": 16,
   "id": "74d9c50e-ce2f-4813-9f6d-112a88837fc9",
   "metadata": {},
   "outputs": [
    {
     "data": {
      "text/html": [
       "<div>\n",
       "<style scoped>\n",
       "    .dataframe tbody tr th:only-of-type {\n",
       "        vertical-align: middle;\n",
       "    }\n",
       "\n",
       "    .dataframe tbody tr th {\n",
       "        vertical-align: top;\n",
       "    }\n",
       "\n",
       "    .dataframe thead th {\n",
       "        text-align: right;\n",
       "    }\n",
       "</style>\n",
       "<table border=\"1\" class=\"dataframe\">\n",
       "  <thead>\n",
       "    <tr style=\"text-align: right;\">\n",
       "      <th></th>\n",
       "      <th>Id</th>\n",
       "      <th>Title</th>\n",
       "      <th>Price</th>\n",
       "      <th>User_id</th>\n",
       "      <th>profileName</th>\n",
       "      <th>review/helpfulness</th>\n",
       "      <th>review/score</th>\n",
       "      <th>review/time</th>\n",
       "      <th>review/summary</th>\n",
       "      <th>review/text</th>\n",
       "    </tr>\n",
       "  </thead>\n",
       "  <tbody>\n",
       "    <tr>\n",
       "      <th>0</th>\n",
       "      <td>1882931173</td>\n",
       "      <td>Its Only Art If Its Well Hung!</td>\n",
       "      <td>NaN</td>\n",
       "      <td>AVCGYZL8FQQTD</td>\n",
       "      <td>Jim of Oz \"jim-of-oz\"</td>\n",
       "      <td>7/7</td>\n",
       "      <td>4.000000</td>\n",
       "      <td>940636800</td>\n",
       "      <td>Nice collection of Julie Strain images</td>\n",
       "      <td>This is only for Julie Strain fans. It's a col...</td>\n",
       "    </tr>\n",
       "    <tr>\n",
       "      <th>1</th>\n",
       "      <td>0826414346</td>\n",
       "      <td>Dr. Seuss: American Icon</td>\n",
       "      <td>NaN</td>\n",
       "      <td>A30TK6U7DNS82R</td>\n",
       "      <td>Kevin Killian</td>\n",
       "      <td>10/10</td>\n",
       "      <td>5.000000</td>\n",
       "      <td>1095724800</td>\n",
       "      <td>Really Enjoyed It</td>\n",
       "      <td>I don't care much for Dr. Seuss but after read...</td>\n",
       "    </tr>\n",
       "    <tr>\n",
       "      <th>2</th>\n",
       "      <td>0826414346</td>\n",
       "      <td>Dr. Seuss: American Icon</td>\n",
       "      <td>NaN</td>\n",
       "      <td>A3UH4UZ4RSVO82</td>\n",
       "      <td>John Granger</td>\n",
       "      <td>10/11</td>\n",
       "      <td>5.000000</td>\n",
       "      <td>1078790400</td>\n",
       "      <td>Essential for every personal and Public Library</td>\n",
       "      <td>If people become the books they read and if \"t...</td>\n",
       "    </tr>\n",
       "    <tr>\n",
       "      <th>3</th>\n",
       "      <td>0826414346</td>\n",
       "      <td>Dr. Seuss: American Icon</td>\n",
       "      <td>NaN</td>\n",
       "      <td>A2MVUWT453QH61</td>\n",
       "      <td>Roy E. Perry \"amateur philosopher\"</td>\n",
       "      <td>7/7</td>\n",
       "      <td>4.000000</td>\n",
       "      <td>1090713600</td>\n",
       "      <td>Phlip Nel gives silly Seuss a serious treatment</td>\n",
       "      <td>Theodore Seuss Geisel (1904-1991), aka &amp;quot;D...</td>\n",
       "    </tr>\n",
       "    <tr>\n",
       "      <th>4</th>\n",
       "      <td>0826414346</td>\n",
       "      <td>Dr. Seuss: American Icon</td>\n",
       "      <td>NaN</td>\n",
       "      <td>A22X4XUPKF66MR</td>\n",
       "      <td>D. H. Richards \"ninthwavestore\"</td>\n",
       "      <td>3/3</td>\n",
       "      <td>4.000000</td>\n",
       "      <td>1107993600</td>\n",
       "      <td>Good academic overview</td>\n",
       "      <td>Philip Nel - Dr. Seuss: American IconThis is b...</td>\n",
       "    </tr>\n",
       "  </tbody>\n",
       "</table>\n",
       "</div>"
      ],
      "text/plain": [
       "           Id                           Title  Price         User_id  \\\n",
       "0  1882931173  Its Only Art If Its Well Hung!    NaN   AVCGYZL8FQQTD   \n",
       "1  0826414346        Dr. Seuss: American Icon    NaN  A30TK6U7DNS82R   \n",
       "2  0826414346        Dr. Seuss: American Icon    NaN  A3UH4UZ4RSVO82   \n",
       "3  0826414346        Dr. Seuss: American Icon    NaN  A2MVUWT453QH61   \n",
       "4  0826414346        Dr. Seuss: American Icon    NaN  A22X4XUPKF66MR   \n",
       "\n",
       "                          profileName review/helpfulness  review/score  \\\n",
       "0               Jim of Oz \"jim-of-oz\"                7/7      4.000000   \n",
       "1                       Kevin Killian              10/10      5.000000   \n",
       "2                        John Granger              10/11      5.000000   \n",
       "3  Roy E. Perry \"amateur philosopher\"                7/7      4.000000   \n",
       "4     D. H. Richards \"ninthwavestore\"                3/3      4.000000   \n",
       "\n",
       "   review/time                                   review/summary  \\\n",
       "0    940636800           Nice collection of Julie Strain images   \n",
       "1   1095724800                                Really Enjoyed It   \n",
       "2   1078790400  Essential for every personal and Public Library   \n",
       "3   1090713600  Phlip Nel gives silly Seuss a serious treatment   \n",
       "4   1107993600                           Good academic overview   \n",
       "\n",
       "                                         review/text  \n",
       "0  This is only for Julie Strain fans. It's a col...  \n",
       "1  I don't care much for Dr. Seuss but after read...  \n",
       "2  If people become the books they read and if \"t...  \n",
       "3  Theodore Seuss Geisel (1904-1991), aka &quot;D...  \n",
       "4  Philip Nel - Dr. Seuss: American IconThis is b...  "
      ]
     },
     "execution_count": 16,
     "metadata": {},
     "output_type": "execute_result"
    }
   ],
   "source": [
    "rating = pd.read_csv(\"D://MBA//SEM 4//Capstone Project & Viva Voce//Dataset//Amazon Book Reviews//Books_rating.csv//Books_rating.csv\")\n",
    "rating.head()"
   ]
  },
  {
   "cell_type": "markdown",
   "id": "f5259652-114e-4cfa-95d9-14deda55f731",
   "metadata": {},
   "source": [
    "## Data Exploration"
   ]
  },
  {
   "cell_type": "code",
   "execution_count": 17,
   "id": "62451308-11b0-4b93-9584-ec37673e235c",
   "metadata": {},
   "outputs": [
    {
     "data": {
      "text/plain": [
       "(3000000, 10)"
      ]
     },
     "execution_count": 17,
     "metadata": {},
     "output_type": "execute_result"
    }
   ],
   "source": [
    "rating.shape"
   ]
  },
  {
   "cell_type": "code",
   "execution_count": 18,
   "id": "8138ae82-46dd-4983-8341-10390ab7f4de",
   "metadata": {},
   "outputs": [
    {
     "name": "stdout",
     "output_type": "stream",
     "text": [
      "<class 'pandas.core.frame.DataFrame'>\n",
      "RangeIndex: 3000000 entries, 0 to 2999999\n",
      "Data columns (total 10 columns):\n",
      " #   Column              Dtype  \n",
      "---  ------              -----  \n",
      " 0   Id                  object \n",
      " 1   Title               object \n",
      " 2   Price               float64\n",
      " 3   User_id             object \n",
      " 4   profileName         object \n",
      " 5   review/helpfulness  object \n",
      " 6   review/score        float64\n",
      " 7   review/time         int64  \n",
      " 8   review/summary      object \n",
      " 9   review/text         object \n",
      "dtypes: float64(2), int64(1), object(7)\n",
      "memory usage: 228.9+ MB\n"
     ]
    }
   ],
   "source": [
    "rating.info()"
   ]
  },
  {
   "cell_type": "code",
   "execution_count": 19,
   "id": "6665d677-0f6c-41b3-bcf4-b7b41116a786",
   "metadata": {},
   "outputs": [
    {
     "name": "stdout",
     "output_type": "stream",
     "text": [
      "         Price  review/score\n",
      "0          NaN      4.000000\n",
      "1          NaN      5.000000\n",
      "2          NaN      5.000000\n",
      "3          NaN      4.000000\n",
      "4          NaN      4.000000\n",
      "...        ...           ...\n",
      "2999995    NaN      4.000000\n",
      "2999996    NaN      4.000000\n",
      "2999997    NaN      4.000000\n",
      "2999998    NaN      5.000000\n",
      "2999999    NaN      1.000000\n",
      "\n",
      "[3000000 rows x 2 columns]\n"
     ]
    }
   ],
   "source": [
    "print(rating.select_dtypes(include=['category', 'float64']))"
   ]
  },
  {
   "cell_type": "code",
   "execution_count": 20,
   "id": "7b35933b-469f-4299-b277-472ec4022c23",
   "metadata": {},
   "outputs": [
    {
     "name": "stdout",
     "output_type": "stream",
     "text": [
      "         review/time\n",
      "0          940636800\n",
      "1         1095724800\n",
      "2         1078790400\n",
      "3         1090713600\n",
      "4         1107993600\n",
      "...              ...\n",
      "2999995    937612800\n",
      "2999996   1331683200\n",
      "2999997   1180224000\n",
      "2999998   1163030400\n",
      "2999999    905385600\n",
      "\n",
      "[3000000 rows x 1 columns]\n"
     ]
    }
   ],
   "source": [
    "print(rating.select_dtypes(include=['category', 'int64']))"
   ]
  },
  {
   "cell_type": "code",
   "execution_count": 21,
   "id": "376458b4-73e7-4547-b4f0-6e6a697212eb",
   "metadata": {},
   "outputs": [
    {
     "name": "stdout",
     "output_type": "stream",
     "text": [
      "                 Id                           Title         User_id  \\\n",
      "0        1882931173  Its Only Art If Its Well Hung!   AVCGYZL8FQQTD   \n",
      "1        0826414346        Dr. Seuss: American Icon  A30TK6U7DNS82R   \n",
      "2        0826414346        Dr. Seuss: American Icon  A3UH4UZ4RSVO82   \n",
      "3        0826414346        Dr. Seuss: American Icon  A2MVUWT453QH61   \n",
      "4        0826414346        Dr. Seuss: American Icon  A22X4XUPKF66MR   \n",
      "...             ...                             ...             ...   \n",
      "2999995  B000NSLVCU             The Idea of History             NaN   \n",
      "2999996  B000NSLVCU             The Idea of History  A1SMUB9ASL5L9Y   \n",
      "2999997  B000NSLVCU             The Idea of History  A2AQMEKZKK5EE4   \n",
      "2999998  B000NSLVCU             The Idea of History  A18SQGYBKS852K   \n",
      "2999999  B000NSLVCU             The Idea of History             NaN   \n",
      "\n",
      "                                profileName review/helpfulness  \\\n",
      "0                     Jim of Oz \"jim-of-oz\"                7/7   \n",
      "1                             Kevin Killian              10/10   \n",
      "2                              John Granger              10/11   \n",
      "3        Roy E. Perry \"amateur philosopher\"                7/7   \n",
      "4           D. H. Richards \"ninthwavestore\"                3/3   \n",
      "...                                     ...                ...   \n",
      "2999995                                 NaN              14/19   \n",
      "2999996                             jafrank                1/1   \n",
      "2999997           L. L. Poulos \"Muslim Mom\"                0/0   \n",
      "2999998       Julia A. Klein \"knitting rat\"               1/11   \n",
      "2999999                                 NaN               7/49   \n",
      "\n",
      "                                            review/summary  \\\n",
      "0                   Nice collection of Julie Strain images   \n",
      "1                                        Really Enjoyed It   \n",
      "2          Essential for every personal and Public Library   \n",
      "3          Phlip Nel gives silly Seuss a serious treatment   \n",
      "4                                   Good academic overview   \n",
      "...                                                    ...   \n",
      "2999995                                          Difficult   \n",
      "2999996      Quite good and ahead of its time occasionally   \n",
      "2999997  Easier reads of those not well versed in histo...   \n",
      "2999998   Yes, it is cheaper than the University Bookstore   \n",
      "2999999  Collingwood's ideas sink in a quagmire or verb...   \n",
      "\n",
      "                                               review/text  \n",
      "0        This is only for Julie Strain fans. It's a col...  \n",
      "1        I don't care much for Dr. Seuss but after read...  \n",
      "2        If people become the books they read and if \"t...  \n",
      "3        Theodore Seuss Geisel (1904-1991), aka &quot;D...  \n",
      "4        Philip Nel - Dr. Seuss: American IconThis is b...  \n",
      "...                                                    ...  \n",
      "2999995  This is an extremely difficult book to digest,...  \n",
      "2999996  This is pretty interesting. Collingwood seems ...  \n",
      "2999997  This is a good book but very esoteric. \"What i...  \n",
      "2999998  My daughter, a freshman at Indiana University,...  \n",
      "2999999  The guy has a few good ideas but, reader, bewa...  \n",
      "\n",
      "[3000000 rows x 7 columns]\n"
     ]
    }
   ],
   "source": [
    "print(rating.select_dtypes(include=['category', 'object']))"
   ]
  },
  {
   "cell_type": "markdown",
   "id": "39997c22-9bda-4278-97a7-76bf0384e55a",
   "metadata": {},
   "source": [
    "## Viewing measures"
   ]
  },
  {
   "cell_type": "code",
   "execution_count": 22,
   "id": "2f55b290-144f-4f54-82a1-06731b30fa7f",
   "metadata": {},
   "outputs": [
    {
     "data": {
      "text/html": [
       "<div>\n",
       "<style scoped>\n",
       "    .dataframe tbody tr th:only-of-type {\n",
       "        vertical-align: middle;\n",
       "    }\n",
       "\n",
       "    .dataframe tbody tr th {\n",
       "        vertical-align: top;\n",
       "    }\n",
       "\n",
       "    .dataframe thead th {\n",
       "        text-align: right;\n",
       "    }\n",
       "</style>\n",
       "<table border=\"1\" class=\"dataframe\">\n",
       "  <thead>\n",
       "    <tr style=\"text-align: right;\">\n",
       "      <th></th>\n",
       "      <th>Price</th>\n",
       "      <th>review/score</th>\n",
       "      <th>review/time</th>\n",
       "    </tr>\n",
       "  </thead>\n",
       "  <tbody>\n",
       "    <tr>\n",
       "      <th>count</th>\n",
       "      <td>481171.000000</td>\n",
       "      <td>3000000.000000</td>\n",
       "      <td>3000000.000000</td>\n",
       "    </tr>\n",
       "    <tr>\n",
       "      <th>mean</th>\n",
       "      <td>21.762656</td>\n",
       "      <td>4.215289</td>\n",
       "      <td>1132306772.630393</td>\n",
       "    </tr>\n",
       "    <tr>\n",
       "      <th>std</th>\n",
       "      <td>26.206541</td>\n",
       "      <td>1.203054</td>\n",
       "      <td>149320187.528304</td>\n",
       "    </tr>\n",
       "    <tr>\n",
       "      <th>min</th>\n",
       "      <td>1.000000</td>\n",
       "      <td>1.000000</td>\n",
       "      <td>-1.000000</td>\n",
       "    </tr>\n",
       "    <tr>\n",
       "      <th>25%</th>\n",
       "      <td>10.780000</td>\n",
       "      <td>4.000000</td>\n",
       "      <td>999907200.000000</td>\n",
       "    </tr>\n",
       "    <tr>\n",
       "      <th>50%</th>\n",
       "      <td>14.930000</td>\n",
       "      <td>5.000000</td>\n",
       "      <td>1128297600.000000</td>\n",
       "    </tr>\n",
       "    <tr>\n",
       "      <th>75%</th>\n",
       "      <td>23.950000</td>\n",
       "      <td>5.000000</td>\n",
       "      <td>1269129600.000000</td>\n",
       "    </tr>\n",
       "    <tr>\n",
       "      <th>max</th>\n",
       "      <td>995.000000</td>\n",
       "      <td>5.000000</td>\n",
       "      <td>1362355200.000000</td>\n",
       "    </tr>\n",
       "  </tbody>\n",
       "</table>\n",
       "</div>"
      ],
      "text/plain": [
       "              Price   review/score       review/time\n",
       "count 481171.000000 3000000.000000    3000000.000000\n",
       "mean      21.762656       4.215289 1132306772.630393\n",
       "std       26.206541       1.203054  149320187.528304\n",
       "min        1.000000       1.000000         -1.000000\n",
       "25%       10.780000       4.000000  999907200.000000\n",
       "50%       14.930000       5.000000 1128297600.000000\n",
       "75%       23.950000       5.000000 1269129600.000000\n",
       "max      995.000000       5.000000 1362355200.000000"
      ]
     },
     "execution_count": 22,
     "metadata": {},
     "output_type": "execute_result"
    }
   ],
   "source": [
    "rating.describe()"
   ]
  },
  {
   "cell_type": "markdown",
   "id": "5d1c0a20-af67-43b2-83ab-810b8f101db0",
   "metadata": {},
   "source": [
    "## Check for Missing Values "
   ]
  },
  {
   "cell_type": "code",
   "execution_count": 23,
   "id": "9aa7cbcf-ed99-47e2-a66d-86d9513ff6e0",
   "metadata": {},
   "outputs": [
    {
     "data": {
      "text/plain": [
       "Id                          0\n",
       "Title                     208\n",
       "Price                 2518829\n",
       "User_id                561787\n",
       "profileName            561905\n",
       "review/helpfulness          0\n",
       "review/score                0\n",
       "review/time                 0\n",
       "review/summary            407\n",
       "review/text                 8\n",
       "dtype: int64"
      ]
     },
     "execution_count": 23,
     "metadata": {},
     "output_type": "execute_result"
    }
   ],
   "source": [
    "rating.isnull().sum()"
   ]
  },
  {
   "cell_type": "markdown",
   "id": "72eef210-223c-4b7c-a73b-d0e2477628e7",
   "metadata": {},
   "source": [
    "# Data Cleaning"
   ]
  },
  {
   "cell_type": "code",
   "execution_count": 24,
   "id": "15092a3c-d56e-4181-8299-c8a2c0cdac97",
   "metadata": {},
   "outputs": [
    {
     "data": {
      "text/plain": [
       "(3000000, 6)"
      ]
     },
     "execution_count": 24,
     "metadata": {},
     "output_type": "execute_result"
    }
   ],
   "source": [
    "rating_new =rating[['Id','Title','User_id','review/helpfulness','review/score','review/text']]\n",
    "rating_new.shape"
   ]
  },
  {
   "cell_type": "markdown",
   "id": "a6183e5f-228d-4136-85b9-bae08ab0f116",
   "metadata": {},
   "source": [
    "## Handling Missing Values"
   ]
  },
  {
   "cell_type": "code",
   "execution_count": 25,
   "id": "d5d9c5c3-a551-4e24-aa11-352868ebed31",
   "metadata": {},
   "outputs": [
    {
     "data": {
      "text/plain": [
       "Id                         0\n",
       "Title                    208\n",
       "User_id               561787\n",
       "review/helpfulness         0\n",
       "review/score               0\n",
       "review/text                8\n",
       "dtype: int64"
      ]
     },
     "execution_count": 25,
     "metadata": {},
     "output_type": "execute_result"
    }
   ],
   "source": [
    "rating_new.isnull().sum()"
   ]
  },
  {
   "cell_type": "code",
   "execution_count": 26,
   "id": "8c60e1cb-f73a-450a-b4c8-2009eb993459",
   "metadata": {},
   "outputs": [
    {
     "data": {
      "text/plain": [
       "Id                    0\n",
       "Title                 0\n",
       "User_id               0\n",
       "review/helpfulness    0\n",
       "review/score          0\n",
       "review/text           0\n",
       "dtype: int64"
      ]
     },
     "execution_count": 26,
     "metadata": {},
     "output_type": "execute_result"
    }
   ],
   "source": [
    "rating_new.dropna(subset=['Title'], inplace=True)\n",
    "rating_new.dropna(subset=['review/text'], inplace=True)\n",
    "rating_new.dropna(subset=['User_id'], inplace=True)\n",
    "rating_new.isnull().sum()"
   ]
  },
  {
   "cell_type": "code",
   "execution_count": 27,
   "id": "f16e0728-7244-43f9-b18a-c88abcf0c4bf",
   "metadata": {},
   "outputs": [
    {
     "data": {
      "text/plain": [
       "(2438017, 6)"
      ]
     },
     "execution_count": 27,
     "metadata": {},
     "output_type": "execute_result"
    }
   ],
   "source": [
    "rating_new.shape"
   ]
  },
  {
   "cell_type": "markdown",
   "id": "43630a16-1095-4f34-9e91-3121dea7456c",
   "metadata": {},
   "source": [
    "## Data Blending"
   ]
  },
  {
   "cell_type": "code",
   "execution_count": 28,
   "id": "d688c6b2-29b2-4d26-81f7-54000c16cb3a",
   "metadata": {},
   "outputs": [
    {
     "data": {
      "text/html": [
       "<div>\n",
       "<style scoped>\n",
       "    .dataframe tbody tr th:only-of-type {\n",
       "        vertical-align: middle;\n",
       "    }\n",
       "\n",
       "    .dataframe tbody tr th {\n",
       "        vertical-align: top;\n",
       "    }\n",
       "\n",
       "    .dataframe thead th {\n",
       "        text-align: right;\n",
       "    }\n",
       "</style>\n",
       "<table border=\"1\" class=\"dataframe\">\n",
       "  <thead>\n",
       "    <tr style=\"text-align: right;\">\n",
       "      <th></th>\n",
       "      <th>Title</th>\n",
       "      <th>authors</th>\n",
       "      <th>categories</th>\n",
       "      <th>ratingsCount</th>\n",
       "      <th>Id</th>\n",
       "      <th>User_id</th>\n",
       "      <th>review/helpfulness</th>\n",
       "      <th>review/score</th>\n",
       "      <th>review/text</th>\n",
       "    </tr>\n",
       "  </thead>\n",
       "  <tbody>\n",
       "    <tr>\n",
       "      <th>0</th>\n",
       "      <td>The Church of Christ: A Biblical Ecclesiology ...</td>\n",
       "      <td>['Everett Ferguson']</td>\n",
       "      <td>['Religion']</td>\n",
       "      <td>5.000000</td>\n",
       "      <td>0802841899</td>\n",
       "      <td>ARI272XF8TOL4</td>\n",
       "      <td>74/81</td>\n",
       "      <td>5.000000</td>\n",
       "      <td>With the publication of Everett Ferguson's boo...</td>\n",
       "    </tr>\n",
       "    <tr>\n",
       "      <th>1</th>\n",
       "      <td>The Church of Christ: A Biblical Ecclesiology ...</td>\n",
       "      <td>['Everett Ferguson']</td>\n",
       "      <td>['Religion']</td>\n",
       "      <td>5.000000</td>\n",
       "      <td>0802841899</td>\n",
       "      <td>A36TPZSH8LBT1</td>\n",
       "      <td>2/3</td>\n",
       "      <td>5.000000</td>\n",
       "      <td>Everett Ferguson approaches the subject of ear...</td>\n",
       "    </tr>\n",
       "    <tr>\n",
       "      <th>2</th>\n",
       "      <td>The Church of Christ: A Biblical Ecclesiology ...</td>\n",
       "      <td>['Everett Ferguson']</td>\n",
       "      <td>['Religion']</td>\n",
       "      <td>5.000000</td>\n",
       "      <td>0802841899</td>\n",
       "      <td>ANX3DDV12ZRRU</td>\n",
       "      <td>2/3</td>\n",
       "      <td>4.000000</td>\n",
       "      <td>This book is a continual resource. It is so bi...</td>\n",
       "    </tr>\n",
       "    <tr>\n",
       "      <th>3</th>\n",
       "      <td>The Church of Christ: A Biblical Ecclesiology ...</td>\n",
       "      <td>['Everett Ferguson']</td>\n",
       "      <td>['Religion']</td>\n",
       "      <td>5.000000</td>\n",
       "      <td>0802841899</td>\n",
       "      <td>A2H2LORTA5EZY2</td>\n",
       "      <td>3/5</td>\n",
       "      <td>4.000000</td>\n",
       "      <td>This is a very useful and thorough text book. ...</td>\n",
       "    </tr>\n",
       "    <tr>\n",
       "      <th>4</th>\n",
       "      <td>Voices from the Farm: Adventures in Community ...</td>\n",
       "      <td>['Rupert Fike']</td>\n",
       "      <td>['Biography &amp; Autobiography']</td>\n",
       "      <td>1.000000</td>\n",
       "      <td>157067051X</td>\n",
       "      <td>A3W1KIKQ93S62</td>\n",
       "      <td>21/21</td>\n",
       "      <td>5.000000</td>\n",
       "      <td>Ironically, I grew up in a small town close to...</td>\n",
       "    </tr>\n",
       "  </tbody>\n",
       "</table>\n",
       "</div>"
      ],
      "text/plain": [
       "                                               Title               authors  \\\n",
       "0  The Church of Christ: A Biblical Ecclesiology ...  ['Everett Ferguson']   \n",
       "1  The Church of Christ: A Biblical Ecclesiology ...  ['Everett Ferguson']   \n",
       "2  The Church of Christ: A Biblical Ecclesiology ...  ['Everett Ferguson']   \n",
       "3  The Church of Christ: A Biblical Ecclesiology ...  ['Everett Ferguson']   \n",
       "4  Voices from the Farm: Adventures in Community ...       ['Rupert Fike']   \n",
       "\n",
       "                      categories  ratingsCount          Id         User_id  \\\n",
       "0                   ['Religion']      5.000000  0802841899   ARI272XF8TOL4   \n",
       "1                   ['Religion']      5.000000  0802841899   A36TPZSH8LBT1   \n",
       "2                   ['Religion']      5.000000  0802841899   ANX3DDV12ZRRU   \n",
       "3                   ['Religion']      5.000000  0802841899  A2H2LORTA5EZY2   \n",
       "4  ['Biography & Autobiography']      1.000000  157067051X   A3W1KIKQ93S62   \n",
       "\n",
       "  review/helpfulness  review/score  \\\n",
       "0              74/81      5.000000   \n",
       "1                2/3      5.000000   \n",
       "2                2/3      4.000000   \n",
       "3                3/5      4.000000   \n",
       "4              21/21      5.000000   \n",
       "\n",
       "                                         review/text  \n",
       "0  With the publication of Everett Ferguson's boo...  \n",
       "1  Everett Ferguson approaches the subject of ear...  \n",
       "2  This book is a continual resource. It is so bi...  \n",
       "3  This is a very useful and thorough text book. ...  \n",
       "4  Ironically, I grew up in a small town close to...  "
      ]
     },
     "execution_count": 28,
     "metadata": {},
     "output_type": "execute_result"
    }
   ],
   "source": [
    "df = pd.merge(data_new, rating_new, on='Title', how='inner')\n",
    "df.head()"
   ]
  },
  {
   "cell_type": "code",
   "execution_count": 29,
   "id": "5de06a28-dd43-4cfb-b755-52035106a513",
   "metadata": {},
   "outputs": [
    {
     "data": {
      "text/html": [
       "<div>\n",
       "<style scoped>\n",
       "    .dataframe tbody tr th:only-of-type {\n",
       "        vertical-align: middle;\n",
       "    }\n",
       "\n",
       "    .dataframe tbody tr th {\n",
       "        vertical-align: top;\n",
       "    }\n",
       "\n",
       "    .dataframe thead th {\n",
       "        text-align: right;\n",
       "    }\n",
       "</style>\n",
       "<table border=\"1\" class=\"dataframe\">\n",
       "  <thead>\n",
       "    <tr style=\"text-align: right;\">\n",
       "      <th></th>\n",
       "      <th>Id</th>\n",
       "      <th>Title</th>\n",
       "      <th>authors</th>\n",
       "      <th>categories</th>\n",
       "      <th>ratingsCount</th>\n",
       "      <th>User_id</th>\n",
       "      <th>review/helpfulness</th>\n",
       "      <th>review/score</th>\n",
       "      <th>review/text</th>\n",
       "    </tr>\n",
       "  </thead>\n",
       "  <tbody>\n",
       "    <tr>\n",
       "      <th>0</th>\n",
       "      <td>0802841899</td>\n",
       "      <td>The Church of Christ: A Biblical Ecclesiology ...</td>\n",
       "      <td>['Everett Ferguson']</td>\n",
       "      <td>['Religion']</td>\n",
       "      <td>5.000000</td>\n",
       "      <td>ARI272XF8TOL4</td>\n",
       "      <td>74/81</td>\n",
       "      <td>5.000000</td>\n",
       "      <td>With the publication of Everett Ferguson's boo...</td>\n",
       "    </tr>\n",
       "    <tr>\n",
       "      <th>1</th>\n",
       "      <td>0802841899</td>\n",
       "      <td>The Church of Christ: A Biblical Ecclesiology ...</td>\n",
       "      <td>['Everett Ferguson']</td>\n",
       "      <td>['Religion']</td>\n",
       "      <td>5.000000</td>\n",
       "      <td>A36TPZSH8LBT1</td>\n",
       "      <td>2/3</td>\n",
       "      <td>5.000000</td>\n",
       "      <td>Everett Ferguson approaches the subject of ear...</td>\n",
       "    </tr>\n",
       "    <tr>\n",
       "      <th>2</th>\n",
       "      <td>0802841899</td>\n",
       "      <td>The Church of Christ: A Biblical Ecclesiology ...</td>\n",
       "      <td>['Everett Ferguson']</td>\n",
       "      <td>['Religion']</td>\n",
       "      <td>5.000000</td>\n",
       "      <td>ANX3DDV12ZRRU</td>\n",
       "      <td>2/3</td>\n",
       "      <td>4.000000</td>\n",
       "      <td>This book is a continual resource. It is so bi...</td>\n",
       "    </tr>\n",
       "    <tr>\n",
       "      <th>3</th>\n",
       "      <td>0802841899</td>\n",
       "      <td>The Church of Christ: A Biblical Ecclesiology ...</td>\n",
       "      <td>['Everett Ferguson']</td>\n",
       "      <td>['Religion']</td>\n",
       "      <td>5.000000</td>\n",
       "      <td>A2H2LORTA5EZY2</td>\n",
       "      <td>3/5</td>\n",
       "      <td>4.000000</td>\n",
       "      <td>This is a very useful and thorough text book. ...</td>\n",
       "    </tr>\n",
       "    <tr>\n",
       "      <th>4</th>\n",
       "      <td>157067051X</td>\n",
       "      <td>Voices from the Farm: Adventures in Community ...</td>\n",
       "      <td>['Rupert Fike']</td>\n",
       "      <td>['Biography &amp; Autobiography']</td>\n",
       "      <td>1.000000</td>\n",
       "      <td>A3W1KIKQ93S62</td>\n",
       "      <td>21/21</td>\n",
       "      <td>5.000000</td>\n",
       "      <td>Ironically, I grew up in a small town close to...</td>\n",
       "    </tr>\n",
       "  </tbody>\n",
       "</table>\n",
       "</div>"
      ],
      "text/plain": [
       "           Id                                              Title  \\\n",
       "0  0802841899  The Church of Christ: A Biblical Ecclesiology ...   \n",
       "1  0802841899  The Church of Christ: A Biblical Ecclesiology ...   \n",
       "2  0802841899  The Church of Christ: A Biblical Ecclesiology ...   \n",
       "3  0802841899  The Church of Christ: A Biblical Ecclesiology ...   \n",
       "4  157067051X  Voices from the Farm: Adventures in Community ...   \n",
       "\n",
       "                authors                     categories  ratingsCount  \\\n",
       "0  ['Everett Ferguson']                   ['Religion']      5.000000   \n",
       "1  ['Everett Ferguson']                   ['Religion']      5.000000   \n",
       "2  ['Everett Ferguson']                   ['Religion']      5.000000   \n",
       "3  ['Everett Ferguson']                   ['Religion']      5.000000   \n",
       "4       ['Rupert Fike']  ['Biography & Autobiography']      1.000000   \n",
       "\n",
       "          User_id review/helpfulness  review/score  \\\n",
       "0   ARI272XF8TOL4              74/81      5.000000   \n",
       "1   A36TPZSH8LBT1                2/3      5.000000   \n",
       "2   ANX3DDV12ZRRU                2/3      4.000000   \n",
       "3  A2H2LORTA5EZY2                3/5      4.000000   \n",
       "4   A3W1KIKQ93S62              21/21      5.000000   \n",
       "\n",
       "                                         review/text  \n",
       "0  With the publication of Everett Ferguson's boo...  \n",
       "1  Everett Ferguson approaches the subject of ear...  \n",
       "2  This book is a continual resource. It is so bi...  \n",
       "3  This is a very useful and thorough text book. ...  \n",
       "4  Ironically, I grew up in a small town close to...  "
      ]
     },
     "execution_count": 29,
     "metadata": {},
     "output_type": "execute_result"
    }
   ],
   "source": [
    "df = df[['Id','Title','authors','categories','ratingsCount','User_id','review/helpfulness','review/score','review/text']]\n",
    "df.head()"
   ]
  },
  {
   "cell_type": "code",
   "execution_count": 30,
   "id": "f7dc2d95-f2b8-470e-bad6-6ab1b66a2a3a",
   "metadata": {},
   "outputs": [
    {
     "data": {
      "text/plain": [
       "(1244291, 9)"
      ]
     },
     "execution_count": 30,
     "metadata": {},
     "output_type": "execute_result"
    }
   ],
   "source": [
    "df.shape"
   ]
  },
  {
   "cell_type": "code",
   "execution_count": 31,
   "id": "2d4206c5-b32a-42d8-9fcc-00f052ce4726",
   "metadata": {},
   "outputs": [
    {
     "data": {
      "text/plain": [
       "Id                    0\n",
       "Title                 0\n",
       "authors               0\n",
       "categories            0\n",
       "ratingsCount          0\n",
       "User_id               0\n",
       "review/helpfulness    0\n",
       "review/score          0\n",
       "review/text           0\n",
       "dtype: int64"
      ]
     },
     "execution_count": 31,
     "metadata": {},
     "output_type": "execute_result"
    }
   ],
   "source": [
    "df.isnull().sum()"
   ]
  },
  {
   "cell_type": "markdown",
   "id": "f81dd876-a64c-4fba-9595-e43e736fb39e",
   "metadata": {},
   "source": [
    "## Viewing Duplicated values"
   ]
  },
  {
   "cell_type": "code",
   "execution_count": 32,
   "id": "e4f08a28-9644-4857-9124-8fabe026e731",
   "metadata": {
    "scrolled": true
   },
   "outputs": [],
   "source": [
    "duplicates = df.duplicated()\n",
    "\n",
    "# Filter the dataframe for duplicates\n",
    "df_duplicates = df[duplicates]"
   ]
  },
  {
   "cell_type": "code",
   "execution_count": 51,
   "id": "45d7b2eb-1949-4a96-bfbb-b6673f924e5e",
   "metadata": {},
   "outputs": [
    {
     "data": {
      "text/html": [
       "<div>\n",
       "<style scoped>\n",
       "    .dataframe tbody tr th:only-of-type {\n",
       "        vertical-align: middle;\n",
       "    }\n",
       "\n",
       "    .dataframe tbody tr th {\n",
       "        vertical-align: top;\n",
       "    }\n",
       "\n",
       "    .dataframe thead th {\n",
       "        text-align: right;\n",
       "    }\n",
       "</style>\n",
       "<table border=\"1\" class=\"dataframe\">\n",
       "  <thead>\n",
       "    <tr style=\"text-align: right;\">\n",
       "      <th></th>\n",
       "      <th>Id</th>\n",
       "      <th>Title</th>\n",
       "      <th>authors</th>\n",
       "      <th>categories</th>\n",
       "      <th>ratingsCount</th>\n",
       "      <th>User_id</th>\n",
       "      <th>review/helpfulness</th>\n",
       "      <th>review/score</th>\n",
       "      <th>review/text</th>\n",
       "    </tr>\n",
       "  </thead>\n",
       "  <tbody>\n",
       "    <tr>\n",
       "      <th>4458</th>\n",
       "      <td>B000KEPC7M</td>\n",
       "      <td>Helter Skelter</td>\n",
       "      <td>['Vincent Bugliosi', 'Curt Gentry']</td>\n",
       "      <td>['True Crime']</td>\n",
       "      <td>80.000000</td>\n",
       "      <td>A2I1BZGK92F7JY</td>\n",
       "      <td>0/0</td>\n",
       "      <td>5.000000</td>\n",
       "      <td>I read this book 25 years ago and, upon readin...</td>\n",
       "    </tr>\n",
       "    <tr>\n",
       "      <th>4964</th>\n",
       "      <td>B000PDFO2Q</td>\n",
       "      <td>Small Gods</td>\n",
       "      <td>['Terry Pratchett']</td>\n",
       "      <td>['Fiction']</td>\n",
       "      <td>85.000000</td>\n",
       "      <td>A13OFOB1394G31</td>\n",
       "      <td>0/0</td>\n",
       "      <td>5.000000</td>\n",
       "      <td>The Great God Om wakes up in tortoise-form jus...</td>\n",
       "    </tr>\n",
       "    <tr>\n",
       "      <th>5816</th>\n",
       "      <td>0812924835</td>\n",
       "      <td>No Disrespect</td>\n",
       "      <td>['Sister Souljah']</td>\n",
       "      <td>['Biography &amp; Autobiography']</td>\n",
       "      <td>8.000000</td>\n",
       "      <td>A3HS2OKGPDYZPB</td>\n",
       "      <td>11/15</td>\n",
       "      <td>5.000000</td>\n",
       "      <td>Sister Souljah is awesome!!! I strongly advise...</td>\n",
       "    </tr>\n",
       "    <tr>\n",
       "      <th>6629</th>\n",
       "      <td>B000GRQ33K</td>\n",
       "      <td>The Clan of the Cave Bear</td>\n",
       "      <td>['Jean M. Auel']</td>\n",
       "      <td>['American fiction']</td>\n",
       "      <td>145.000000</td>\n",
       "      <td>AX6WWTSHXZ6S4</td>\n",
       "      <td>0/0</td>\n",
       "      <td>5.000000</td>\n",
       "      <td>I have enjoyed reading this book and the entir...</td>\n",
       "    </tr>\n",
       "    <tr>\n",
       "      <th>6706</th>\n",
       "      <td>B000GRQ33K</td>\n",
       "      <td>The Clan of the Cave Bear</td>\n",
       "      <td>['Jean M. Auel']</td>\n",
       "      <td>['American fiction']</td>\n",
       "      <td>145.000000</td>\n",
       "      <td>A15NHNGZNMGM8S</td>\n",
       "      <td>0/0</td>\n",
       "      <td>5.000000</td>\n",
       "      <td>I read this book 20 years ago and was eager to...</td>\n",
       "    </tr>\n",
       "  </tbody>\n",
       "</table>\n",
       "</div>"
      ],
      "text/plain": [
       "              Id                      Title  \\\n",
       "4458  B000KEPC7M             Helter Skelter   \n",
       "4964  B000PDFO2Q                 Small Gods   \n",
       "5816  0812924835              No Disrespect   \n",
       "6629  B000GRQ33K  The Clan of the Cave Bear   \n",
       "6706  B000GRQ33K  The Clan of the Cave Bear   \n",
       "\n",
       "                                  authors                     categories  \\\n",
       "4458  ['Vincent Bugliosi', 'Curt Gentry']                 ['True Crime']   \n",
       "4964                  ['Terry Pratchett']                    ['Fiction']   \n",
       "5816                   ['Sister Souljah']  ['Biography & Autobiography']   \n",
       "6629                     ['Jean M. Auel']           ['American fiction']   \n",
       "6706                     ['Jean M. Auel']           ['American fiction']   \n",
       "\n",
       "      ratingsCount         User_id review/helpfulness  review/score  \\\n",
       "4458     80.000000  A2I1BZGK92F7JY                0/0      5.000000   \n",
       "4964     85.000000  A13OFOB1394G31                0/0      5.000000   \n",
       "5816      8.000000  A3HS2OKGPDYZPB              11/15      5.000000   \n",
       "6629    145.000000   AX6WWTSHXZ6S4                0/0      5.000000   \n",
       "6706    145.000000  A15NHNGZNMGM8S                0/0      5.000000   \n",
       "\n",
       "                                            review/text  \n",
       "4458  I read this book 25 years ago and, upon readin...  \n",
       "4964  The Great God Om wakes up in tortoise-form jus...  \n",
       "5816  Sister Souljah is awesome!!! I strongly advise...  \n",
       "6629  I have enjoyed reading this book and the entir...  \n",
       "6706  I read this book 20 years ago and was eager to...  "
      ]
     },
     "execution_count": 51,
     "metadata": {},
     "output_type": "execute_result"
    }
   ],
   "source": [
    "df_duplicates.head()"
   ]
  },
  {
   "cell_type": "markdown",
   "id": "0f1ad87f-fec7-4339-981c-76649f660ee8",
   "metadata": {},
   "source": [
    "## Removing duplicates"
   ]
  },
  {
   "cell_type": "code",
   "execution_count": 34,
   "id": "25247176-8d45-4aa9-b238-df8d8fb00776",
   "metadata": {},
   "outputs": [
    {
     "data": {
      "text/html": [
       "<div>\n",
       "<style scoped>\n",
       "    .dataframe tbody tr th:only-of-type {\n",
       "        vertical-align: middle;\n",
       "    }\n",
       "\n",
       "    .dataframe tbody tr th {\n",
       "        vertical-align: top;\n",
       "    }\n",
       "\n",
       "    .dataframe thead th {\n",
       "        text-align: right;\n",
       "    }\n",
       "</style>\n",
       "<table border=\"1\" class=\"dataframe\">\n",
       "  <thead>\n",
       "    <tr style=\"text-align: right;\">\n",
       "      <th></th>\n",
       "      <th>Id</th>\n",
       "      <th>Title</th>\n",
       "      <th>authors</th>\n",
       "      <th>categories</th>\n",
       "      <th>ratingsCount</th>\n",
       "      <th>User_id</th>\n",
       "      <th>review/helpfulness</th>\n",
       "      <th>review/score</th>\n",
       "      <th>review/text</th>\n",
       "    </tr>\n",
       "  </thead>\n",
       "  <tbody>\n",
       "    <tr>\n",
       "      <th>0</th>\n",
       "      <td>0802841899</td>\n",
       "      <td>The Church of Christ: A Biblical Ecclesiology ...</td>\n",
       "      <td>['Everett Ferguson']</td>\n",
       "      <td>['Religion']</td>\n",
       "      <td>5.000000</td>\n",
       "      <td>ARI272XF8TOL4</td>\n",
       "      <td>74/81</td>\n",
       "      <td>5.000000</td>\n",
       "      <td>With the publication of Everett Ferguson's boo...</td>\n",
       "    </tr>\n",
       "    <tr>\n",
       "      <th>1</th>\n",
       "      <td>0802841899</td>\n",
       "      <td>The Church of Christ: A Biblical Ecclesiology ...</td>\n",
       "      <td>['Everett Ferguson']</td>\n",
       "      <td>['Religion']</td>\n",
       "      <td>5.000000</td>\n",
       "      <td>A36TPZSH8LBT1</td>\n",
       "      <td>2/3</td>\n",
       "      <td>5.000000</td>\n",
       "      <td>Everett Ferguson approaches the subject of ear...</td>\n",
       "    </tr>\n",
       "    <tr>\n",
       "      <th>2</th>\n",
       "      <td>0802841899</td>\n",
       "      <td>The Church of Christ: A Biblical Ecclesiology ...</td>\n",
       "      <td>['Everett Ferguson']</td>\n",
       "      <td>['Religion']</td>\n",
       "      <td>5.000000</td>\n",
       "      <td>ANX3DDV12ZRRU</td>\n",
       "      <td>2/3</td>\n",
       "      <td>4.000000</td>\n",
       "      <td>This book is a continual resource. It is so bi...</td>\n",
       "    </tr>\n",
       "    <tr>\n",
       "      <th>3</th>\n",
       "      <td>0802841899</td>\n",
       "      <td>The Church of Christ: A Biblical Ecclesiology ...</td>\n",
       "      <td>['Everett Ferguson']</td>\n",
       "      <td>['Religion']</td>\n",
       "      <td>5.000000</td>\n",
       "      <td>A2H2LORTA5EZY2</td>\n",
       "      <td>3/5</td>\n",
       "      <td>4.000000</td>\n",
       "      <td>This is a very useful and thorough text book. ...</td>\n",
       "    </tr>\n",
       "    <tr>\n",
       "      <th>4</th>\n",
       "      <td>157067051X</td>\n",
       "      <td>Voices from the Farm: Adventures in Community ...</td>\n",
       "      <td>['Rupert Fike']</td>\n",
       "      <td>['Biography &amp; Autobiography']</td>\n",
       "      <td>1.000000</td>\n",
       "      <td>A3W1KIKQ93S62</td>\n",
       "      <td>21/21</td>\n",
       "      <td>5.000000</td>\n",
       "      <td>Ironically, I grew up in a small town close to...</td>\n",
       "    </tr>\n",
       "  </tbody>\n",
       "</table>\n",
       "</div>"
      ],
      "text/plain": [
       "           Id                                              Title  \\\n",
       "0  0802841899  The Church of Christ: A Biblical Ecclesiology ...   \n",
       "1  0802841899  The Church of Christ: A Biblical Ecclesiology ...   \n",
       "2  0802841899  The Church of Christ: A Biblical Ecclesiology ...   \n",
       "3  0802841899  The Church of Christ: A Biblical Ecclesiology ...   \n",
       "4  157067051X  Voices from the Farm: Adventures in Community ...   \n",
       "\n",
       "                authors                     categories  ratingsCount  \\\n",
       "0  ['Everett Ferguson']                   ['Religion']      5.000000   \n",
       "1  ['Everett Ferguson']                   ['Religion']      5.000000   \n",
       "2  ['Everett Ferguson']                   ['Religion']      5.000000   \n",
       "3  ['Everett Ferguson']                   ['Religion']      5.000000   \n",
       "4       ['Rupert Fike']  ['Biography & Autobiography']      1.000000   \n",
       "\n",
       "          User_id review/helpfulness  review/score  \\\n",
       "0   ARI272XF8TOL4              74/81      5.000000   \n",
       "1   A36TPZSH8LBT1                2/3      5.000000   \n",
       "2   ANX3DDV12ZRRU                2/3      4.000000   \n",
       "3  A2H2LORTA5EZY2                3/5      4.000000   \n",
       "4   A3W1KIKQ93S62              21/21      5.000000   \n",
       "\n",
       "                                         review/text  \n",
       "0  With the publication of Everett Ferguson's boo...  \n",
       "1  Everett Ferguson approaches the subject of ear...  \n",
       "2  This book is a continual resource. It is so bi...  \n",
       "3  This is a very useful and thorough text book. ...  \n",
       "4  Ironically, I grew up in a small town close to...  "
      ]
     },
     "execution_count": 34,
     "metadata": {},
     "output_type": "execute_result"
    }
   ],
   "source": [
    "df.drop_duplicates(inplace=True)\n",
    "df.head()"
   ]
  },
  {
   "cell_type": "code",
   "execution_count": 35,
   "id": "e2f29a7a-5080-4b00-abd7-9a009d1b5263",
   "metadata": {},
   "outputs": [
    {
     "name": "stdout",
     "output_type": "stream",
     "text": [
      "<class 'pandas.core.frame.DataFrame'>\n",
      "Index: 1240299 entries, 0 to 1244290\n",
      "Data columns (total 9 columns):\n",
      " #   Column              Non-Null Count    Dtype  \n",
      "---  ------              --------------    -----  \n",
      " 0   Id                  1240299 non-null  object \n",
      " 1   Title               1240299 non-null  object \n",
      " 2   authors             1240299 non-null  object \n",
      " 3   categories          1240299 non-null  object \n",
      " 4   ratingsCount        1240299 non-null  float64\n",
      " 5   User_id             1240299 non-null  object \n",
      " 6   review/helpfulness  1240299 non-null  object \n",
      " 7   review/score        1240299 non-null  float64\n",
      " 8   review/text         1240299 non-null  object \n",
      "dtypes: float64(2), object(7)\n",
      "memory usage: 94.6+ MB\n"
     ]
    }
   ],
   "source": [
    "df.info()"
   ]
  },
  {
   "cell_type": "code",
   "execution_count": 36,
   "id": "c70d9337-b855-4546-96d1-00eef4fece84",
   "metadata": {},
   "outputs": [
    {
     "data": {
      "text/plain": [
       "(1240299, 9)"
      ]
     },
     "execution_count": 36,
     "metadata": {},
     "output_type": "execute_result"
    }
   ],
   "source": [
    "df.shape"
   ]
  },
  {
   "cell_type": "code",
   "execution_count": 37,
   "id": "ff74f2b2-cf3f-4be5-93bb-001d8fb42a91",
   "metadata": {},
   "outputs": [
    {
     "data": {
      "text/plain": [
       "Id                    0\n",
       "Title                 0\n",
       "authors               0\n",
       "categories            0\n",
       "ratingsCount          0\n",
       "User_id               0\n",
       "review/helpfulness    0\n",
       "review/score          0\n",
       "review/text           0\n",
       "dtype: int64"
      ]
     },
     "execution_count": 37,
     "metadata": {},
     "output_type": "execute_result"
    }
   ],
   "source": [
    "df.isnull().sum()"
   ]
  },
  {
   "cell_type": "code",
   "execution_count": 38,
   "id": "283e9fee-d7bd-47d4-8b7a-e29a12a5deb1",
   "metadata": {},
   "outputs": [
    {
     "data": {
      "text/html": [
       "<div>\n",
       "<style scoped>\n",
       "    .dataframe tbody tr th:only-of-type {\n",
       "        vertical-align: middle;\n",
       "    }\n",
       "\n",
       "    .dataframe tbody tr th {\n",
       "        vertical-align: top;\n",
       "    }\n",
       "\n",
       "    .dataframe thead th {\n",
       "        text-align: right;\n",
       "    }\n",
       "</style>\n",
       "<table border=\"1\" class=\"dataframe\">\n",
       "  <thead>\n",
       "    <tr style=\"text-align: right;\">\n",
       "      <th></th>\n",
       "      <th>ratingsCount</th>\n",
       "      <th>review/score</th>\n",
       "    </tr>\n",
       "  </thead>\n",
       "  <tbody>\n",
       "    <tr>\n",
       "      <th>count</th>\n",
       "      <td>1240299.000000</td>\n",
       "      <td>1240299.000000</td>\n",
       "    </tr>\n",
       "    <tr>\n",
       "      <th>mean</th>\n",
       "      <td>265.381027</td>\n",
       "      <td>4.219235</td>\n",
       "    </tr>\n",
       "    <tr>\n",
       "      <th>std</th>\n",
       "      <td>789.324478</td>\n",
       "      <td>1.182009</td>\n",
       "    </tr>\n",
       "    <tr>\n",
       "      <th>min</th>\n",
       "      <td>1.000000</td>\n",
       "      <td>1.000000</td>\n",
       "    </tr>\n",
       "    <tr>\n",
       "      <th>25%</th>\n",
       "      <td>3.000000</td>\n",
       "      <td>4.000000</td>\n",
       "    </tr>\n",
       "    <tr>\n",
       "      <th>50%</th>\n",
       "      <td>10.000000</td>\n",
       "      <td>5.000000</td>\n",
       "    </tr>\n",
       "    <tr>\n",
       "      <th>75%</th>\n",
       "      <td>50.000000</td>\n",
       "      <td>5.000000</td>\n",
       "    </tr>\n",
       "    <tr>\n",
       "      <th>max</th>\n",
       "      <td>4895.000000</td>\n",
       "      <td>5.000000</td>\n",
       "    </tr>\n",
       "  </tbody>\n",
       "</table>\n",
       "</div>"
      ],
      "text/plain": [
       "        ratingsCount   review/score\n",
       "count 1240299.000000 1240299.000000\n",
       "mean      265.381027       4.219235\n",
       "std       789.324478       1.182009\n",
       "min         1.000000       1.000000\n",
       "25%         3.000000       4.000000\n",
       "50%        10.000000       5.000000\n",
       "75%        50.000000       5.000000\n",
       "max      4895.000000       5.000000"
      ]
     },
     "execution_count": 38,
     "metadata": {},
     "output_type": "execute_result"
    }
   ],
   "source": [
    "df.describe()"
   ]
  },
  {
   "cell_type": "code",
   "execution_count": 39,
   "id": "3cc1cf3a-0256-4913-8641-b246d8cf3fdd",
   "metadata": {},
   "outputs": [
    {
     "data": {
      "text/plain": [
       "Id                    0\n",
       "Title                 0\n",
       "authors               0\n",
       "categories            0\n",
       "ratingsCount          0\n",
       "User_id               0\n",
       "review/helpfulness    0\n",
       "review/score          0\n",
       "review/text           0\n",
       "dtype: int64"
      ]
     },
     "execution_count": 39,
     "metadata": {},
     "output_type": "execute_result"
    }
   ],
   "source": [
    "df.isnull().sum()"
   ]
  },
  {
   "cell_type": "markdown",
   "id": "7b95bdf6-37e8-4ecd-9cf8-42a7fa17263a",
   "metadata": {},
   "source": [
    "## Removing brackets & punctuations "
   ]
  },
  {
   "cell_type": "code",
   "execution_count": 40,
   "id": "2acde867-4d26-42ce-aa2b-218e49b54fee",
   "metadata": {},
   "outputs": [
    {
     "data": {
      "text/plain": [
       "0          ['Everett Ferguson']\n",
       "1          ['Everett Ferguson']\n",
       "2          ['Everett Ferguson']\n",
       "3          ['Everett Ferguson']\n",
       "4               ['Rupert Fike']\n",
       "                   ...         \n",
       "1244286     ['Elvira Woodruff']\n",
       "1244287         ['Zadie Smith']\n",
       "1244288         ['Zadie Smith']\n",
       "1244289         ['Zadie Smith']\n",
       "1244290         ['Zadie Smith']\n",
       "Name: authors, Length: 1240299, dtype: object"
      ]
     },
     "execution_count": 40,
     "metadata": {},
     "output_type": "execute_result"
    }
   ],
   "source": [
    "df['authors']"
   ]
  },
  {
   "cell_type": "code",
   "execution_count": 41,
   "id": "e3da714f-7879-4cdf-82a3-627dcdf6731d",
   "metadata": {},
   "outputs": [
    {
     "name": "stdout",
     "output_type": "stream",
     "text": [
      "[\"['Everett Ferguson']\" \"['Rupert Fike']\" \"['Stefan Draminski']\" ...\n",
      " \"['Linda Barnes']\" \"['Patrick Balfour Baron Kinross']\"\n",
      " \"['Judy Halliday', 'Arthur Halliday']\"]\n"
     ]
    }
   ],
   "source": [
    "authors_expressions = df['authors'].unique()\n",
    "print(authors_expressions)"
   ]
  },
  {
   "cell_type": "code",
   "execution_count": 42,
   "id": "75a5f07b-64a8-4a91-bc30-1b49d14b694b",
   "metadata": {},
   "outputs": [],
   "source": [
    "df['authors'] = df['authors'].str.replace(r\"\\[|\\]|\\'\", \"\", regex=True)"
   ]
  },
  {
   "cell_type": "code",
   "execution_count": 43,
   "id": "d2e486ad-a7ce-464d-9616-9a8aaf2dadd5",
   "metadata": {},
   "outputs": [
    {
     "data": {
      "text/plain": [
       "0                           ['Religion']\n",
       "1                           ['Religion']\n",
       "2                           ['Religion']\n",
       "3                           ['Religion']\n",
       "4          ['Biography & Autobiography']\n",
       "                       ...              \n",
       "1244286             ['Juvenile Fiction']\n",
       "1244287                      ['Fiction']\n",
       "1244288                      ['Fiction']\n",
       "1244289                      ['Fiction']\n",
       "1244290                      ['Fiction']\n",
       "Name: categories, Length: 1240299, dtype: object"
      ]
     },
     "execution_count": 43,
     "metadata": {},
     "output_type": "execute_result"
    }
   ],
   "source": [
    "df['categories']"
   ]
  },
  {
   "cell_type": "code",
   "execution_count": 44,
   "id": "a9fb3ee7-1c06-4e6d-9457-f651aff83883",
   "metadata": {},
   "outputs": [
    {
     "name": "stdout",
     "output_type": "stream",
     "text": [
      "[\"['Religion']\" \"['Biography & Autobiography']\" \"['History']\" ...\n",
      " \"['Colombo (Sri Lanka)']\" \"['Mastodons']\"\n",
      " \"['Tarzan (Fictitious character)']\"]\n"
     ]
    }
   ],
   "source": [
    "categories_expressions = df['categories'].unique()\n",
    "print(categories_expressions)"
   ]
  },
  {
   "cell_type": "code",
   "execution_count": 45,
   "id": "ad5504cf-2b45-4faa-b84e-63cead589481",
   "metadata": {},
   "outputs": [],
   "source": [
    "df['categories'] = df['categories'].str.replace(r\"\\[|\\]|\\'\", \"\", regex=True)"
   ]
  },
  {
   "cell_type": "code",
   "execution_count": 46,
   "id": "3585411b-55f7-4c7b-aa88-8cc915f499b4",
   "metadata": {},
   "outputs": [
    {
     "data": {
      "text/plain": [
       "(1240299, 9)"
      ]
     },
     "execution_count": 46,
     "metadata": {},
     "output_type": "execute_result"
    }
   ],
   "source": [
    "df.shape"
   ]
  },
  {
   "cell_type": "markdown",
   "id": "0474e795-6437-4c36-ace0-6dc8469a7425",
   "metadata": {},
   "source": [
    "## Counting the length of each review"
   ]
  },
  {
   "cell_type": "raw",
   "id": "be4905ec-7e89-481f-9526-c5e4e3ed69cc",
   "metadata": {},
   "source": [
    "df['word_count'] = df['review/text'].apply(lambda x: len(x.split(' ')))"
   ]
  },
  {
   "cell_type": "code",
   "execution_count": 47,
   "id": "81ce93a7-e64d-4ec2-b85d-fa2c45f69f28",
   "metadata": {},
   "outputs": [
    {
     "data": {
      "text/html": [
       "<div>\n",
       "<style scoped>\n",
       "    .dataframe tbody tr th:only-of-type {\n",
       "        vertical-align: middle;\n",
       "    }\n",
       "\n",
       "    .dataframe tbody tr th {\n",
       "        vertical-align: top;\n",
       "    }\n",
       "\n",
       "    .dataframe thead th {\n",
       "        text-align: right;\n",
       "    }\n",
       "</style>\n",
       "<table border=\"1\" class=\"dataframe\">\n",
       "  <thead>\n",
       "    <tr style=\"text-align: right;\">\n",
       "      <th></th>\n",
       "      <th>Id</th>\n",
       "      <th>Title</th>\n",
       "      <th>authors</th>\n",
       "      <th>categories</th>\n",
       "      <th>ratingsCount</th>\n",
       "      <th>User_id</th>\n",
       "      <th>review/helpfulness</th>\n",
       "      <th>review/score</th>\n",
       "      <th>review/text</th>\n",
       "    </tr>\n",
       "  </thead>\n",
       "  <tbody>\n",
       "    <tr>\n",
       "      <th>0</th>\n",
       "      <td>0802841899</td>\n",
       "      <td>The Church of Christ: A Biblical Ecclesiology ...</td>\n",
       "      <td>Everett Ferguson</td>\n",
       "      <td>Religion</td>\n",
       "      <td>5.000000</td>\n",
       "      <td>ARI272XF8TOL4</td>\n",
       "      <td>74/81</td>\n",
       "      <td>5.000000</td>\n",
       "      <td>With the publication of Everett Ferguson's boo...</td>\n",
       "    </tr>\n",
       "    <tr>\n",
       "      <th>1</th>\n",
       "      <td>0802841899</td>\n",
       "      <td>The Church of Christ: A Biblical Ecclesiology ...</td>\n",
       "      <td>Everett Ferguson</td>\n",
       "      <td>Religion</td>\n",
       "      <td>5.000000</td>\n",
       "      <td>A36TPZSH8LBT1</td>\n",
       "      <td>2/3</td>\n",
       "      <td>5.000000</td>\n",
       "      <td>Everett Ferguson approaches the subject of ear...</td>\n",
       "    </tr>\n",
       "    <tr>\n",
       "      <th>2</th>\n",
       "      <td>0802841899</td>\n",
       "      <td>The Church of Christ: A Biblical Ecclesiology ...</td>\n",
       "      <td>Everett Ferguson</td>\n",
       "      <td>Religion</td>\n",
       "      <td>5.000000</td>\n",
       "      <td>ANX3DDV12ZRRU</td>\n",
       "      <td>2/3</td>\n",
       "      <td>4.000000</td>\n",
       "      <td>This book is a continual resource. It is so bi...</td>\n",
       "    </tr>\n",
       "    <tr>\n",
       "      <th>3</th>\n",
       "      <td>0802841899</td>\n",
       "      <td>The Church of Christ: A Biblical Ecclesiology ...</td>\n",
       "      <td>Everett Ferguson</td>\n",
       "      <td>Religion</td>\n",
       "      <td>5.000000</td>\n",
       "      <td>A2H2LORTA5EZY2</td>\n",
       "      <td>3/5</td>\n",
       "      <td>4.000000</td>\n",
       "      <td>This is a very useful and thorough text book. ...</td>\n",
       "    </tr>\n",
       "    <tr>\n",
       "      <th>4</th>\n",
       "      <td>157067051X</td>\n",
       "      <td>Voices from the Farm: Adventures in Community ...</td>\n",
       "      <td>Rupert Fike</td>\n",
       "      <td>Biography &amp; Autobiography</td>\n",
       "      <td>1.000000</td>\n",
       "      <td>A3W1KIKQ93S62</td>\n",
       "      <td>21/21</td>\n",
       "      <td>5.000000</td>\n",
       "      <td>Ironically, I grew up in a small town close to...</td>\n",
       "    </tr>\n",
       "  </tbody>\n",
       "</table>\n",
       "</div>"
      ],
      "text/plain": [
       "           Id                                              Title  \\\n",
       "0  0802841899  The Church of Christ: A Biblical Ecclesiology ...   \n",
       "1  0802841899  The Church of Christ: A Biblical Ecclesiology ...   \n",
       "2  0802841899  The Church of Christ: A Biblical Ecclesiology ...   \n",
       "3  0802841899  The Church of Christ: A Biblical Ecclesiology ...   \n",
       "4  157067051X  Voices from the Farm: Adventures in Community ...   \n",
       "\n",
       "            authors                 categories  ratingsCount         User_id  \\\n",
       "0  Everett Ferguson                   Religion      5.000000   ARI272XF8TOL4   \n",
       "1  Everett Ferguson                   Religion      5.000000   A36TPZSH8LBT1   \n",
       "2  Everett Ferguson                   Religion      5.000000   ANX3DDV12ZRRU   \n",
       "3  Everett Ferguson                   Religion      5.000000  A2H2LORTA5EZY2   \n",
       "4       Rupert Fike  Biography & Autobiography      1.000000   A3W1KIKQ93S62   \n",
       "\n",
       "  review/helpfulness  review/score  \\\n",
       "0              74/81      5.000000   \n",
       "1                2/3      5.000000   \n",
       "2                2/3      4.000000   \n",
       "3                3/5      4.000000   \n",
       "4              21/21      5.000000   \n",
       "\n",
       "                                         review/text  \n",
       "0  With the publication of Everett Ferguson's boo...  \n",
       "1  Everett Ferguson approaches the subject of ear...  \n",
       "2  This book is a continual resource. It is so bi...  \n",
       "3  This is a very useful and thorough text book. ...  \n",
       "4  Ironically, I grew up in a small town close to...  "
      ]
     },
     "execution_count": 47,
     "metadata": {},
     "output_type": "execute_result"
    }
   ],
   "source": [
    "df.head()"
   ]
  },
  {
   "cell_type": "code",
   "execution_count": 48,
   "id": "5f10a9d3-72b7-4a79-aeb7-91923d0d3817",
   "metadata": {},
   "outputs": [
    {
     "data": {
      "text/plain": [
       "(1240299, 9)"
      ]
     },
     "execution_count": 48,
     "metadata": {},
     "output_type": "execute_result"
    }
   ],
   "source": [
    "df.shape"
   ]
  },
  {
   "cell_type": "code",
   "execution_count": 49,
   "id": "992cec9d-57eb-4831-9040-4ffe89a6dfe3",
   "metadata": {},
   "outputs": [
    {
     "data": {
      "text/plain": [
       "Id                    0\n",
       "Title                 0\n",
       "authors               0\n",
       "categories            0\n",
       "ratingsCount          0\n",
       "User_id               0\n",
       "review/helpfulness    0\n",
       "review/score          0\n",
       "review/text           0\n",
       "dtype: int64"
      ]
     },
     "execution_count": 49,
     "metadata": {},
     "output_type": "execute_result"
    }
   ],
   "source": [
    "df.isnull().sum()"
   ]
  },
  {
   "cell_type": "code",
   "execution_count": 50,
   "id": "96e11bd2-da1c-435f-a5f2-b03a69e9aa57",
   "metadata": {},
   "outputs": [],
   "source": [
    "#df.to_csv(\"D://MBA//SEM 4//Capstone Project & Viva Voce//Dataset//Amazon Book Reviews//Amazon Book Reviews.csv\", index=False)"
   ]
  }
 ],
 "metadata": {
  "kernelspec": {
   "display_name": "Python 3 (ipykernel)",
   "language": "python",
   "name": "python3"
  },
  "language_info": {
   "codemirror_mode": {
    "name": "ipython",
    "version": 3
   },
   "file_extension": ".py",
   "mimetype": "text/x-python",
   "name": "python",
   "nbconvert_exporter": "python",
   "pygments_lexer": "ipython3",
   "version": "3.10.13"
  }
 },
 "nbformat": 4,
 "nbformat_minor": 5
}
